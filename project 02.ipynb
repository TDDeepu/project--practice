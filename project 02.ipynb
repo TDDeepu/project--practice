{
 "cells": [
  {
   "cell_type": "markdown",
   "id": "3420740b",
   "metadata": {},
   "source": [
    "project 2"
   ]
  },
  {
   "cell_type": "markdown",
   "id": "753b5101",
   "metadata": {},
   "source": [
    "This dataset contains Health insurance is a type of insurance that covers medical expenses that arise due to an illness in which it contains both numerical data and categorical data are present. here cahrges is the target variable which contain continous data so it will be Regression problem where we need to predict the cost of insurance charges."
   ]
  },
  {
   "cell_type": "code",
   "execution_count": 3,
   "id": "267c0b85",
   "metadata": {},
   "outputs": [],
   "source": [
    "import pandas as pd\n",
    "import numpy as np\n",
    "import seaborn as sns\n",
    "import warnings\n",
    "warnings.filterwarnings('ignore')\n",
    "import matplotlib.pyplot as plt"
   ]
  },
  {
   "cell_type": "code",
   "execution_count": 4,
   "id": "7aeedab8",
   "metadata": {},
   "outputs": [
    {
     "data": {
      "text/html": [
       "<div>\n",
       "<style scoped>\n",
       "    .dataframe tbody tr th:only-of-type {\n",
       "        vertical-align: middle;\n",
       "    }\n",
       "\n",
       "    .dataframe tbody tr th {\n",
       "        vertical-align: top;\n",
       "    }\n",
       "\n",
       "    .dataframe thead th {\n",
       "        text-align: right;\n",
       "    }\n",
       "</style>\n",
       "<table border=\"1\" class=\"dataframe\">\n",
       "  <thead>\n",
       "    <tr style=\"text-align: right;\">\n",
       "      <th></th>\n",
       "      <th>age</th>\n",
       "      <th>sex</th>\n",
       "      <th>bmi</th>\n",
       "      <th>children</th>\n",
       "      <th>smoker</th>\n",
       "      <th>region</th>\n",
       "      <th>charges</th>\n",
       "    </tr>\n",
       "  </thead>\n",
       "  <tbody>\n",
       "    <tr>\n",
       "      <th>0</th>\n",
       "      <td>19</td>\n",
       "      <td>female</td>\n",
       "      <td>27.900</td>\n",
       "      <td>0</td>\n",
       "      <td>yes</td>\n",
       "      <td>southwest</td>\n",
       "      <td>16884.92400</td>\n",
       "    </tr>\n",
       "    <tr>\n",
       "      <th>1</th>\n",
       "      <td>18</td>\n",
       "      <td>male</td>\n",
       "      <td>33.770</td>\n",
       "      <td>1</td>\n",
       "      <td>no</td>\n",
       "      <td>southeast</td>\n",
       "      <td>1725.55230</td>\n",
       "    </tr>\n",
       "    <tr>\n",
       "      <th>2</th>\n",
       "      <td>28</td>\n",
       "      <td>male</td>\n",
       "      <td>33.000</td>\n",
       "      <td>3</td>\n",
       "      <td>no</td>\n",
       "      <td>southeast</td>\n",
       "      <td>4449.46200</td>\n",
       "    </tr>\n",
       "    <tr>\n",
       "      <th>3</th>\n",
       "      <td>33</td>\n",
       "      <td>male</td>\n",
       "      <td>22.705</td>\n",
       "      <td>0</td>\n",
       "      <td>no</td>\n",
       "      <td>northwest</td>\n",
       "      <td>21984.47061</td>\n",
       "    </tr>\n",
       "    <tr>\n",
       "      <th>4</th>\n",
       "      <td>32</td>\n",
       "      <td>male</td>\n",
       "      <td>28.880</td>\n",
       "      <td>0</td>\n",
       "      <td>no</td>\n",
       "      <td>northwest</td>\n",
       "      <td>3866.85520</td>\n",
       "    </tr>\n",
       "    <tr>\n",
       "      <th>...</th>\n",
       "      <td>...</td>\n",
       "      <td>...</td>\n",
       "      <td>...</td>\n",
       "      <td>...</td>\n",
       "      <td>...</td>\n",
       "      <td>...</td>\n",
       "      <td>...</td>\n",
       "    </tr>\n",
       "    <tr>\n",
       "      <th>1333</th>\n",
       "      <td>50</td>\n",
       "      <td>male</td>\n",
       "      <td>30.970</td>\n",
       "      <td>3</td>\n",
       "      <td>no</td>\n",
       "      <td>northwest</td>\n",
       "      <td>10600.54830</td>\n",
       "    </tr>\n",
       "    <tr>\n",
       "      <th>1334</th>\n",
       "      <td>18</td>\n",
       "      <td>female</td>\n",
       "      <td>31.920</td>\n",
       "      <td>0</td>\n",
       "      <td>no</td>\n",
       "      <td>northeast</td>\n",
       "      <td>2205.98080</td>\n",
       "    </tr>\n",
       "    <tr>\n",
       "      <th>1335</th>\n",
       "      <td>18</td>\n",
       "      <td>female</td>\n",
       "      <td>36.850</td>\n",
       "      <td>0</td>\n",
       "      <td>no</td>\n",
       "      <td>southeast</td>\n",
       "      <td>1629.83350</td>\n",
       "    </tr>\n",
       "    <tr>\n",
       "      <th>1336</th>\n",
       "      <td>21</td>\n",
       "      <td>female</td>\n",
       "      <td>25.800</td>\n",
       "      <td>0</td>\n",
       "      <td>no</td>\n",
       "      <td>southwest</td>\n",
       "      <td>2007.94500</td>\n",
       "    </tr>\n",
       "    <tr>\n",
       "      <th>1337</th>\n",
       "      <td>61</td>\n",
       "      <td>female</td>\n",
       "      <td>29.070</td>\n",
       "      <td>0</td>\n",
       "      <td>yes</td>\n",
       "      <td>northwest</td>\n",
       "      <td>29141.36030</td>\n",
       "    </tr>\n",
       "  </tbody>\n",
       "</table>\n",
       "<p>1338 rows × 7 columns</p>\n",
       "</div>"
      ],
      "text/plain": [
       "      age     sex     bmi  children smoker     region      charges\n",
       "0      19  female  27.900         0    yes  southwest  16884.92400\n",
       "1      18    male  33.770         1     no  southeast   1725.55230\n",
       "2      28    male  33.000         3     no  southeast   4449.46200\n",
       "3      33    male  22.705         0     no  northwest  21984.47061\n",
       "4      32    male  28.880         0     no  northwest   3866.85520\n",
       "...   ...     ...     ...       ...    ...        ...          ...\n",
       "1333   50    male  30.970         3     no  northwest  10600.54830\n",
       "1334   18  female  31.920         0     no  northeast   2205.98080\n",
       "1335   18  female  36.850         0     no  southeast   1629.83350\n",
       "1336   21  female  25.800         0     no  southwest   2007.94500\n",
       "1337   61  female  29.070         0    yes  northwest  29141.36030\n",
       "\n",
       "[1338 rows x 7 columns]"
      ]
     },
     "execution_count": 4,
     "metadata": {},
     "output_type": "execute_result"
    }
   ],
   "source": [
    "df=pd.read_csv('https://raw.githubusercontent.com/FlipRoboTechnologies/ML-Datasets/main/Medical%20Cost%20Insurance/medical_cost_insurance.csv')\n",
    "df"
   ]
  },
  {
   "cell_type": "markdown",
   "id": "73260b58",
   "metadata": {},
   "source": [
    "EDA(Exploratory Data Analysis.\n"
   ]
  },
  {
   "cell_type": "code",
   "execution_count": 5,
   "id": "4f88357c",
   "metadata": {},
   "outputs": [
    {
     "data": {
      "text/plain": [
       "(1338, 7)"
      ]
     },
     "execution_count": 5,
     "metadata": {},
     "output_type": "execute_result"
    }
   ],
   "source": [
    "df.shape"
   ]
  },
  {
   "cell_type": "markdown",
   "id": "64778283",
   "metadata": {},
   "source": [
    "This dataset contain 1338 rows and 7 columns out of which 1 is target variable and remaining 6 are independent variable."
   ]
  },
  {
   "cell_type": "code",
   "execution_count": 6,
   "id": "0946ba29",
   "metadata": {},
   "outputs": [
    {
     "data": {
      "text/html": [
       "<div>\n",
       "<style scoped>\n",
       "    .dataframe tbody tr th:only-of-type {\n",
       "        vertical-align: middle;\n",
       "    }\n",
       "\n",
       "    .dataframe tbody tr th {\n",
       "        vertical-align: top;\n",
       "    }\n",
       "\n",
       "    .dataframe thead th {\n",
       "        text-align: right;\n",
       "    }\n",
       "</style>\n",
       "<table border=\"1\" class=\"dataframe\">\n",
       "  <thead>\n",
       "    <tr style=\"text-align: right;\">\n",
       "      <th></th>\n",
       "      <th>age</th>\n",
       "      <th>sex</th>\n",
       "      <th>bmi</th>\n",
       "      <th>children</th>\n",
       "      <th>smoker</th>\n",
       "      <th>region</th>\n",
       "      <th>charges</th>\n",
       "    </tr>\n",
       "  </thead>\n",
       "  <tbody>\n",
       "    <tr>\n",
       "      <th>0</th>\n",
       "      <td>19</td>\n",
       "      <td>female</td>\n",
       "      <td>27.900</td>\n",
       "      <td>0</td>\n",
       "      <td>yes</td>\n",
       "      <td>southwest</td>\n",
       "      <td>16884.92400</td>\n",
       "    </tr>\n",
       "    <tr>\n",
       "      <th>1</th>\n",
       "      <td>18</td>\n",
       "      <td>male</td>\n",
       "      <td>33.770</td>\n",
       "      <td>1</td>\n",
       "      <td>no</td>\n",
       "      <td>southeast</td>\n",
       "      <td>1725.55230</td>\n",
       "    </tr>\n",
       "    <tr>\n",
       "      <th>2</th>\n",
       "      <td>28</td>\n",
       "      <td>male</td>\n",
       "      <td>33.000</td>\n",
       "      <td>3</td>\n",
       "      <td>no</td>\n",
       "      <td>southeast</td>\n",
       "      <td>4449.46200</td>\n",
       "    </tr>\n",
       "    <tr>\n",
       "      <th>3</th>\n",
       "      <td>33</td>\n",
       "      <td>male</td>\n",
       "      <td>22.705</td>\n",
       "      <td>0</td>\n",
       "      <td>no</td>\n",
       "      <td>northwest</td>\n",
       "      <td>21984.47061</td>\n",
       "    </tr>\n",
       "    <tr>\n",
       "      <th>4</th>\n",
       "      <td>32</td>\n",
       "      <td>male</td>\n",
       "      <td>28.880</td>\n",
       "      <td>0</td>\n",
       "      <td>no</td>\n",
       "      <td>northwest</td>\n",
       "      <td>3866.85520</td>\n",
       "    </tr>\n",
       "    <tr>\n",
       "      <th>5</th>\n",
       "      <td>31</td>\n",
       "      <td>female</td>\n",
       "      <td>25.740</td>\n",
       "      <td>0</td>\n",
       "      <td>no</td>\n",
       "      <td>southeast</td>\n",
       "      <td>3756.62160</td>\n",
       "    </tr>\n",
       "    <tr>\n",
       "      <th>6</th>\n",
       "      <td>46</td>\n",
       "      <td>female</td>\n",
       "      <td>33.440</td>\n",
       "      <td>1</td>\n",
       "      <td>no</td>\n",
       "      <td>southeast</td>\n",
       "      <td>8240.58960</td>\n",
       "    </tr>\n",
       "    <tr>\n",
       "      <th>7</th>\n",
       "      <td>37</td>\n",
       "      <td>female</td>\n",
       "      <td>27.740</td>\n",
       "      <td>3</td>\n",
       "      <td>no</td>\n",
       "      <td>northwest</td>\n",
       "      <td>7281.50560</td>\n",
       "    </tr>\n",
       "    <tr>\n",
       "      <th>8</th>\n",
       "      <td>37</td>\n",
       "      <td>male</td>\n",
       "      <td>29.830</td>\n",
       "      <td>2</td>\n",
       "      <td>no</td>\n",
       "      <td>northeast</td>\n",
       "      <td>6406.41070</td>\n",
       "    </tr>\n",
       "    <tr>\n",
       "      <th>9</th>\n",
       "      <td>60</td>\n",
       "      <td>female</td>\n",
       "      <td>25.840</td>\n",
       "      <td>0</td>\n",
       "      <td>no</td>\n",
       "      <td>northwest</td>\n",
       "      <td>28923.13692</td>\n",
       "    </tr>\n",
       "  </tbody>\n",
       "</table>\n",
       "</div>"
      ],
      "text/plain": [
       "   age     sex     bmi  children smoker     region      charges\n",
       "0   19  female  27.900         0    yes  southwest  16884.92400\n",
       "1   18    male  33.770         1     no  southeast   1725.55230\n",
       "2   28    male  33.000         3     no  southeast   4449.46200\n",
       "3   33    male  22.705         0     no  northwest  21984.47061\n",
       "4   32    male  28.880         0     no  northwest   3866.85520\n",
       "5   31  female  25.740         0     no  southeast   3756.62160\n",
       "6   46  female  33.440         1     no  southeast   8240.58960\n",
       "7   37  female  27.740         3     no  northwest   7281.50560\n",
       "8   37    male  29.830         2     no  northeast   6406.41070\n",
       "9   60  female  25.840         0     no  northwest  28923.13692"
      ]
     },
     "execution_count": 6,
     "metadata": {},
     "output_type": "execute_result"
    }
   ],
   "source": [
    "df.head(10)"
   ]
  },
  {
   "cell_type": "code",
   "execution_count": 7,
   "id": "abb913fa",
   "metadata": {},
   "outputs": [
    {
     "data": {
      "text/html": [
       "<div>\n",
       "<style scoped>\n",
       "    .dataframe tbody tr th:only-of-type {\n",
       "        vertical-align: middle;\n",
       "    }\n",
       "\n",
       "    .dataframe tbody tr th {\n",
       "        vertical-align: top;\n",
       "    }\n",
       "\n",
       "    .dataframe thead th {\n",
       "        text-align: right;\n",
       "    }\n",
       "</style>\n",
       "<table border=\"1\" class=\"dataframe\">\n",
       "  <thead>\n",
       "    <tr style=\"text-align: right;\">\n",
       "      <th></th>\n",
       "      <th>age</th>\n",
       "      <th>sex</th>\n",
       "      <th>bmi</th>\n",
       "      <th>children</th>\n",
       "      <th>smoker</th>\n",
       "      <th>region</th>\n",
       "      <th>charges</th>\n",
       "    </tr>\n",
       "  </thead>\n",
       "  <tbody>\n",
       "    <tr>\n",
       "      <th>1328</th>\n",
       "      <td>23</td>\n",
       "      <td>female</td>\n",
       "      <td>24.225</td>\n",
       "      <td>2</td>\n",
       "      <td>no</td>\n",
       "      <td>northeast</td>\n",
       "      <td>22395.74424</td>\n",
       "    </tr>\n",
       "    <tr>\n",
       "      <th>1329</th>\n",
       "      <td>52</td>\n",
       "      <td>male</td>\n",
       "      <td>38.600</td>\n",
       "      <td>2</td>\n",
       "      <td>no</td>\n",
       "      <td>southwest</td>\n",
       "      <td>10325.20600</td>\n",
       "    </tr>\n",
       "    <tr>\n",
       "      <th>1330</th>\n",
       "      <td>57</td>\n",
       "      <td>female</td>\n",
       "      <td>25.740</td>\n",
       "      <td>2</td>\n",
       "      <td>no</td>\n",
       "      <td>southeast</td>\n",
       "      <td>12629.16560</td>\n",
       "    </tr>\n",
       "    <tr>\n",
       "      <th>1331</th>\n",
       "      <td>23</td>\n",
       "      <td>female</td>\n",
       "      <td>33.400</td>\n",
       "      <td>0</td>\n",
       "      <td>no</td>\n",
       "      <td>southwest</td>\n",
       "      <td>10795.93733</td>\n",
       "    </tr>\n",
       "    <tr>\n",
       "      <th>1332</th>\n",
       "      <td>52</td>\n",
       "      <td>female</td>\n",
       "      <td>44.700</td>\n",
       "      <td>3</td>\n",
       "      <td>no</td>\n",
       "      <td>southwest</td>\n",
       "      <td>11411.68500</td>\n",
       "    </tr>\n",
       "    <tr>\n",
       "      <th>1333</th>\n",
       "      <td>50</td>\n",
       "      <td>male</td>\n",
       "      <td>30.970</td>\n",
       "      <td>3</td>\n",
       "      <td>no</td>\n",
       "      <td>northwest</td>\n",
       "      <td>10600.54830</td>\n",
       "    </tr>\n",
       "    <tr>\n",
       "      <th>1334</th>\n",
       "      <td>18</td>\n",
       "      <td>female</td>\n",
       "      <td>31.920</td>\n",
       "      <td>0</td>\n",
       "      <td>no</td>\n",
       "      <td>northeast</td>\n",
       "      <td>2205.98080</td>\n",
       "    </tr>\n",
       "    <tr>\n",
       "      <th>1335</th>\n",
       "      <td>18</td>\n",
       "      <td>female</td>\n",
       "      <td>36.850</td>\n",
       "      <td>0</td>\n",
       "      <td>no</td>\n",
       "      <td>southeast</td>\n",
       "      <td>1629.83350</td>\n",
       "    </tr>\n",
       "    <tr>\n",
       "      <th>1336</th>\n",
       "      <td>21</td>\n",
       "      <td>female</td>\n",
       "      <td>25.800</td>\n",
       "      <td>0</td>\n",
       "      <td>no</td>\n",
       "      <td>southwest</td>\n",
       "      <td>2007.94500</td>\n",
       "    </tr>\n",
       "    <tr>\n",
       "      <th>1337</th>\n",
       "      <td>61</td>\n",
       "      <td>female</td>\n",
       "      <td>29.070</td>\n",
       "      <td>0</td>\n",
       "      <td>yes</td>\n",
       "      <td>northwest</td>\n",
       "      <td>29141.36030</td>\n",
       "    </tr>\n",
       "  </tbody>\n",
       "</table>\n",
       "</div>"
      ],
      "text/plain": [
       "      age     sex     bmi  children smoker     region      charges\n",
       "1328   23  female  24.225         2     no  northeast  22395.74424\n",
       "1329   52    male  38.600         2     no  southwest  10325.20600\n",
       "1330   57  female  25.740         2     no  southeast  12629.16560\n",
       "1331   23  female  33.400         0     no  southwest  10795.93733\n",
       "1332   52  female  44.700         3     no  southwest  11411.68500\n",
       "1333   50    male  30.970         3     no  northwest  10600.54830\n",
       "1334   18  female  31.920         0     no  northeast   2205.98080\n",
       "1335   18  female  36.850         0     no  southeast   1629.83350\n",
       "1336   21  female  25.800         0     no  southwest   2007.94500\n",
       "1337   61  female  29.070         0    yes  northwest  29141.36030"
      ]
     },
     "execution_count": 7,
     "metadata": {},
     "output_type": "execute_result"
    }
   ],
   "source": [
    "df.tail(10)"
   ]
  },
  {
   "cell_type": "code",
   "execution_count": 8,
   "id": "fb0d6820",
   "metadata": {},
   "outputs": [
    {
     "data": {
      "text/plain": [
       "age           int64\n",
       "sex          object\n",
       "bmi         float64\n",
       "children      int64\n",
       "smoker       object\n",
       "region       object\n",
       "charges     float64\n",
       "dtype: object"
      ]
     },
     "execution_count": 8,
     "metadata": {},
     "output_type": "execute_result"
    }
   ],
   "source": [
    "df.dtypes"
   ]
  },
  {
   "cell_type": "markdown",
   "id": "4465a727",
   "metadata": {},
   "source": [
    "here we are checking null or missing values present in the dataset."
   ]
  },
  {
   "cell_type": "code",
   "execution_count": 9,
   "id": "0f2584bf",
   "metadata": {},
   "outputs": [
    {
     "data": {
      "text/plain": [
       "age         0\n",
       "sex         0\n",
       "bmi         0\n",
       "children    0\n",
       "smoker      0\n",
       "region      0\n",
       "charges     0\n",
       "dtype: int64"
      ]
     },
     "execution_count": 9,
     "metadata": {},
     "output_type": "execute_result"
    }
   ],
   "source": [
    "df.isnull().sum()"
   ]
  },
  {
   "cell_type": "code",
   "execution_count": 10,
   "id": "754d505b",
   "metadata": {},
   "outputs": [
    {
     "name": "stdout",
     "output_type": "stream",
     "text": [
      "<class 'pandas.core.frame.DataFrame'>\n",
      "RangeIndex: 1338 entries, 0 to 1337\n",
      "Data columns (total 7 columns):\n",
      " #   Column    Non-Null Count  Dtype  \n",
      "---  ------    --------------  -----  \n",
      " 0   age       1338 non-null   int64  \n",
      " 1   sex       1338 non-null   object \n",
      " 2   bmi       1338 non-null   float64\n",
      " 3   children  1338 non-null   int64  \n",
      " 4   smoker    1338 non-null   object \n",
      " 5   region    1338 non-null   object \n",
      " 6   charges   1338 non-null   float64\n",
      "dtypes: float64(2), int64(2), object(3)\n",
      "memory usage: 73.3+ KB\n"
     ]
    }
   ],
   "source": [
    "df.info()"
   ]
  },
  {
   "cell_type": "code",
   "execution_count": 11,
   "id": "c4a16696",
   "metadata": {},
   "outputs": [
    {
     "data": {
      "text/plain": [
       "<Axes: >"
      ]
     },
     "execution_count": 11,
     "metadata": {},
     "output_type": "execute_result"
    },
    {
     "data": {
      "image/png": "[encoded data removed]",
      "text/plain": [
       "<Figure size 640x480 with 2 Axes>"
      ]
     },
     "metadata": {},
     "output_type": "display_data"
    }
   ],
   "source": [
    "sns.heatmap(df.isnull())"
   ]
  },
  {
   "cell_type": "markdown",
   "id": "67a12da6",
   "metadata": {},
   "source": [
    "As we can see there are no null values present in this dataset. and we can clearly visualize that there is no null or missing data present."
   ]
  },
  {
   "cell_type": "markdown",
   "id": "bf32129e",
   "metadata": {},
   "source": [
    "Here we are checking unique values."
   ]
  },
  {
   "cell_type": "code",
   "execution_count": 12,
   "id": "4c55f0db",
   "metadata": {},
   "outputs": [
    {
     "data": {
      "text/plain": [
       "array([16884.924 ,  1725.5523,  4449.462 , ...,  1629.8335,  2007.945 ,\n",
       "       29141.3603])"
      ]
     },
     "execution_count": 12,
     "metadata": {},
     "output_type": "execute_result"
    }
   ],
   "source": [
    "df['charges'].unique()"
   ]
  },
  {
   "cell_type": "code",
   "execution_count": 13,
   "id": "d96b9c2e",
   "metadata": {},
   "outputs": [
    {
     "data": {
      "text/plain": [
       "1337"
      ]
     },
     "execution_count": 13,
     "metadata": {},
     "output_type": "execute_result"
    }
   ],
   "source": [
    "df['charges'].nunique()"
   ]
  },
  {
   "cell_type": "code",
   "execution_count": 14,
   "id": "eb3e78e5",
   "metadata": {},
   "outputs": [
    {
     "name": "stdout",
     "output_type": "stream",
     "text": [
      "18    69\n",
      "19    68\n",
      "50    29\n",
      "51    29\n",
      "47    29\n",
      "46    29\n",
      "45    29\n",
      "20    29\n",
      "48    29\n",
      "52    29\n",
      "22    28\n",
      "49    28\n",
      "54    28\n",
      "53    28\n",
      "21    28\n",
      "26    28\n",
      "24    28\n",
      "25    28\n",
      "28    28\n",
      "27    28\n",
      "23    28\n",
      "43    27\n",
      "29    27\n",
      "30    27\n",
      "41    27\n",
      "42    27\n",
      "44    27\n",
      "31    27\n",
      "40    27\n",
      "32    26\n",
      "33    26\n",
      "56    26\n",
      "34    26\n",
      "55    26\n",
      "57    26\n",
      "37    25\n",
      "59    25\n",
      "58    25\n",
      "36    25\n",
      "38    25\n",
      "35    25\n",
      "39    25\n",
      "61    23\n",
      "60    23\n",
      "63    23\n",
      "62    23\n",
      "64    22\n",
      "Name: age, dtype: int64\n",
      "\n",
      "\n",
      "male      676\n",
      "female    662\n",
      "Name: sex, dtype: int64\n",
      "\n",
      "\n",
      "32.300    13\n",
      "28.310     9\n",
      "30.495     8\n",
      "30.875     8\n",
      "31.350     8\n",
      "          ..\n",
      "46.200     1\n",
      "23.800     1\n",
      "44.770     1\n",
      "32.120     1\n",
      "30.970     1\n",
      "Name: bmi, Length: 548, dtype: int64\n",
      "\n",
      "\n",
      "0    574\n",
      "1    324\n",
      "2    240\n",
      "3    157\n",
      "4     25\n",
      "5     18\n",
      "Name: children, dtype: int64\n",
      "\n",
      "\n",
      "no     1064\n",
      "yes     274\n",
      "Name: smoker, dtype: int64\n",
      "\n",
      "\n",
      "southeast    364\n",
      "southwest    325\n",
      "northwest    325\n",
      "northeast    324\n",
      "Name: region, dtype: int64\n",
      "\n",
      "\n",
      "1639.56310     2\n",
      "16884.92400    1\n",
      "29330.98315    1\n",
      "2221.56445     1\n",
      "19798.05455    1\n",
      "              ..\n",
      "7345.08400     1\n",
      "26109.32905    1\n",
      "28287.89766    1\n",
      "1149.39590     1\n",
      "29141.36030    1\n",
      "Name: charges, Length: 1337, dtype: int64\n",
      "\n",
      "\n"
     ]
    }
   ],
   "source": [
    "for i in df.columns:\n",
    "    print(df[i].value_counts())\n",
    "    print('\\n')"
   ]
  },
  {
   "cell_type": "code",
   "execution_count": 15,
   "id": "e85af454",
   "metadata": {},
   "outputs": [
    {
     "name": "stdout",
     "output_type": "stream",
     "text": [
      "cat_col: ['sex', 'smoker', 'region']\n",
      "\n",
      "\n"
     ]
    }
   ],
   "source": [
    "cat_col=[]\n",
    "for i in df.dtypes.index:\n",
    "    if df.dtypes[i]=='object':\n",
    "        cat_col.append(i)\n",
    "print('cat_col:',cat_col)\n",
    "print('\\n')"
   ]
  },
  {
   "cell_type": "code",
   "execution_count": 16,
   "id": "c0d7c744",
   "metadata": {},
   "outputs": [
    {
     "name": "stdout",
     "output_type": "stream",
     "text": [
      "num_col: ['age', 'bmi', 'children', 'charges']\n",
      "\n",
      "\n"
     ]
    }
   ],
   "source": [
    "num_col=[]\n",
    "for i in df.dtypes.index:\n",
    "    if df.dtypes[i]!='object':\n",
    "        num_col.append(i)\n",
    "print('num_col:',num_col)\n",
    "print('\\n')"
   ]
  },
  {
   "cell_type": "code",
   "execution_count": 17,
   "id": "eab03af4",
   "metadata": {},
   "outputs": [
    {
     "data": {
      "text/html": [
       "<div>\n",
       "<style scoped>\n",
       "    .dataframe tbody tr th:only-of-type {\n",
       "        vertical-align: middle;\n",
       "    }\n",
       "\n",
       "    .dataframe tbody tr th {\n",
       "        vertical-align: top;\n",
       "    }\n",
       "\n",
       "    .dataframe thead th {\n",
       "        text-align: right;\n",
       "    }\n",
       "</style>\n",
       "<table border=\"1\" class=\"dataframe\">\n",
       "  <thead>\n",
       "    <tr style=\"text-align: right;\">\n",
       "      <th></th>\n",
       "      <th>no of unique values</th>\n",
       "    </tr>\n",
       "  </thead>\n",
       "  <tbody>\n",
       "    <tr>\n",
       "      <th>age</th>\n",
       "      <td>47</td>\n",
       "    </tr>\n",
       "    <tr>\n",
       "      <th>sex</th>\n",
       "      <td>2</td>\n",
       "    </tr>\n",
       "    <tr>\n",
       "      <th>bmi</th>\n",
       "      <td>548</td>\n",
       "    </tr>\n",
       "    <tr>\n",
       "      <th>children</th>\n",
       "      <td>6</td>\n",
       "    </tr>\n",
       "    <tr>\n",
       "      <th>smoker</th>\n",
       "      <td>2</td>\n",
       "    </tr>\n",
       "    <tr>\n",
       "      <th>region</th>\n",
       "      <td>4</td>\n",
       "    </tr>\n",
       "    <tr>\n",
       "      <th>charges</th>\n",
       "      <td>1337</td>\n",
       "    </tr>\n",
       "  </tbody>\n",
       "</table>\n",
       "</div>"
      ],
      "text/plain": [
       "          no of unique values\n",
       "age                        47\n",
       "sex                         2\n",
       "bmi                       548\n",
       "children                    6\n",
       "smoker                      2\n",
       "region                      4\n",
       "charges                  1337"
      ]
     },
     "execution_count": 17,
     "metadata": {},
     "output_type": "execute_result"
    }
   ],
   "source": [
    "\n",
    "df.nunique().to_frame('no of unique values')"
   ]
  },
  {
   "cell_type": "markdown",
   "id": "19b8d250",
   "metadata": {},
   "source": [
    "Description of dataset."
   ]
  },
  {
   "cell_type": "code",
   "execution_count": 18,
   "id": "1d1c7c09",
   "metadata": {},
   "outputs": [
    {
     "data": {
      "text/html": [
       "<div>\n",
       "<style scoped>\n",
       "    .dataframe tbody tr th:only-of-type {\n",
       "        vertical-align: middle;\n",
       "    }\n",
       "\n",
       "    .dataframe tbody tr th {\n",
       "        vertical-align: top;\n",
       "    }\n",
       "\n",
       "    .dataframe thead th {\n",
       "        text-align: right;\n",
       "    }\n",
       "</style>\n",
       "<table border=\"1\" class=\"dataframe\">\n",
       "  <thead>\n",
       "    <tr style=\"text-align: right;\">\n",
       "      <th></th>\n",
       "      <th>age</th>\n",
       "      <th>bmi</th>\n",
       "      <th>children</th>\n",
       "      <th>charges</th>\n",
       "    </tr>\n",
       "  </thead>\n",
       "  <tbody>\n",
       "    <tr>\n",
       "      <th>count</th>\n",
       "      <td>1338.000000</td>\n",
       "      <td>1338.000000</td>\n",
       "      <td>1338.000000</td>\n",
       "      <td>1338.000000</td>\n",
       "    </tr>\n",
       "    <tr>\n",
       "      <th>mean</th>\n",
       "      <td>39.207025</td>\n",
       "      <td>30.663397</td>\n",
       "      <td>1.094918</td>\n",
       "      <td>13270.422265</td>\n",
       "    </tr>\n",
       "    <tr>\n",
       "      <th>std</th>\n",
       "      <td>14.049960</td>\n",
       "      <td>6.098187</td>\n",
       "      <td>1.205493</td>\n",
       "      <td>12110.011237</td>\n",
       "    </tr>\n",
       "    <tr>\n",
       "      <th>min</th>\n",
       "      <td>18.000000</td>\n",
       "      <td>15.960000</td>\n",
       "      <td>0.000000</td>\n",
       "      <td>1121.873900</td>\n",
       "    </tr>\n",
       "    <tr>\n",
       "      <th>25%</th>\n",
       "      <td>27.000000</td>\n",
       "      <td>26.296250</td>\n",
       "      <td>0.000000</td>\n",
       "      <td>4740.287150</td>\n",
       "    </tr>\n",
       "    <tr>\n",
       "      <th>50%</th>\n",
       "      <td>39.000000</td>\n",
       "      <td>30.400000</td>\n",
       "      <td>1.000000</td>\n",
       "      <td>9382.033000</td>\n",
       "    </tr>\n",
       "    <tr>\n",
       "      <th>75%</th>\n",
       "      <td>51.000000</td>\n",
       "      <td>34.693750</td>\n",
       "      <td>2.000000</td>\n",
       "      <td>16639.912515</td>\n",
       "    </tr>\n",
       "    <tr>\n",
       "      <th>max</th>\n",
       "      <td>64.000000</td>\n",
       "      <td>53.130000</td>\n",
       "      <td>5.000000</td>\n",
       "      <td>63770.428010</td>\n",
       "    </tr>\n",
       "  </tbody>\n",
       "</table>\n",
       "</div>"
      ],
      "text/plain": [
       "               age          bmi     children       charges\n",
       "count  1338.000000  1338.000000  1338.000000   1338.000000\n",
       "mean     39.207025    30.663397     1.094918  13270.422265\n",
       "std      14.049960     6.098187     1.205493  12110.011237\n",
       "min      18.000000    15.960000     0.000000   1121.873900\n",
       "25%      27.000000    26.296250     0.000000   4740.287150\n",
       "50%      39.000000    30.400000     1.000000   9382.033000\n",
       "75%      51.000000    34.693750     2.000000  16639.912515\n",
       "max      64.000000    53.130000     5.000000  63770.428010"
      ]
     },
     "execution_count": 18,
     "metadata": {},
     "output_type": "execute_result"
    }
   ],
   "source": [
    "df.describe()"
   ]
  },
  {
   "cell_type": "markdown",
   "id": "20706d12",
   "metadata": {},
   "source": [
    "This above gives the statistical summary of numerical columns.\n",
    "this above summary of the dataset looks prefect since there are no negative /invalid values present.\n",
    "Here Mean is same as Median it means there is no skweness present.\n",
    "considering 75% and maximum values  there is huge difference hence outliers are present in the dataset."
   ]
  },
  {
   "cell_type": "markdown",
   "id": "24232b13",
   "metadata": {},
   "source": [
    "DAta Visulization.\n",
    "Univariante Analysis."
   ]
  },
  {
   "cell_type": "code",
   "execution_count": 19,
   "id": "e10b2e1c",
   "metadata": {},
   "outputs": [
    {
     "name": "stdout",
     "output_type": "stream",
     "text": [
      "1639.56310     2\n",
      "16884.92400    1\n",
      "29330.98315    1\n",
      "2221.56445     1\n",
      "19798.05455    1\n",
      "              ..\n",
      "7345.08400     1\n",
      "26109.32905    1\n",
      "28287.89766    1\n",
      "1149.39590     1\n",
      "29141.36030    1\n",
      "Name: charges, Length: 1337, dtype: int64\n"
     ]
    },
    {
     "data": {
      "image/png": "[encoded data removed]",
      "text/plain": [
       "<Figure size 640x480 with 1 Axes>"
      ]
     },
     "metadata": {},
     "output_type": "display_data"
    }
   ],
   "source": [
    "bx=sns.countplot(x='charges',data=df)\n",
    "print(df['charges'].value_counts())\n",
    "plt.show()"
   ]
  },
  {
   "cell_type": "code",
   "execution_count": 20,
   "id": "1e8754f4",
   "metadata": {},
   "outputs": [
    {
     "name": "stdout",
     "output_type": "stream",
     "text": [
      "male      676\n",
      "female    662\n",
      "Name: sex, dtype: int64\n"
     ]
    },
    {
     "data": {
      "image/png": "[encoded data removed]",
      "text/plain": [
       "<Figure size 640x480 with 1 Axes>"
      ]
     },
     "metadata": {},
     "output_type": "display_data"
    }
   ],
   "source": [
    "bx=sns.countplot(x='sex',data=df)\n",
    "print(df['sex'].value_counts())\n",
    "plt.show()"
   ]
  },
  {
   "cell_type": "code",
   "execution_count": 21,
   "id": "7fcf284b",
   "metadata": {},
   "outputs": [
    {
     "name": "stdout",
     "output_type": "stream",
     "text": [
      "18    69\n",
      "19    68\n",
      "50    29\n",
      "51    29\n",
      "47    29\n",
      "46    29\n",
      "45    29\n",
      "20    29\n",
      "48    29\n",
      "52    29\n",
      "22    28\n",
      "49    28\n",
      "54    28\n",
      "53    28\n",
      "21    28\n",
      "26    28\n",
      "24    28\n",
      "25    28\n",
      "28    28\n",
      "27    28\n",
      "23    28\n",
      "43    27\n",
      "29    27\n",
      "30    27\n",
      "41    27\n",
      "42    27\n",
      "44    27\n",
      "31    27\n",
      "40    27\n",
      "32    26\n",
      "33    26\n",
      "56    26\n",
      "34    26\n",
      "55    26\n",
      "57    26\n",
      "37    25\n",
      "59    25\n",
      "58    25\n",
      "36    25\n",
      "38    25\n",
      "35    25\n",
      "39    25\n",
      "61    23\n",
      "60    23\n",
      "63    23\n",
      "62    23\n",
      "64    22\n",
      "Name: age, dtype: int64\n"
     ]
    },
    {
     "data": {
      "image/png": "[encoded data removed]",
      "text/plain": [
       "<Figure size 640x480 with 1 Axes>"
      ]
     },
     "metadata": {},
     "output_type": "display_data"
    }
   ],
   "source": [
    "bx=sns.countplot(x='age',data=df)\n",
    "print(df['age'].value_counts())\n",
    "plt.show()"
   ]
  },
  {
   "cell_type": "code",
   "execution_count": 22,
   "id": "91296287",
   "metadata": {},
   "outputs": [
    {
     "name": "stdout",
     "output_type": "stream",
     "text": [
      "32.300    13\n",
      "28.310     9\n",
      "30.495     8\n",
      "30.875     8\n",
      "31.350     8\n",
      "          ..\n",
      "46.200     1\n",
      "23.800     1\n",
      "44.770     1\n",
      "32.120     1\n",
      "30.970     1\n",
      "Name: bmi, Length: 548, dtype: int64\n"
     ]
    },
    {
     "data": {
      "image/png": "[encoded data removed]",
      "text/plain": [
       "<Figure size 640x480 with 1 Axes>"
      ]
     },
     "metadata": {},
     "output_type": "display_data"
    }
   ],
   "source": [
    "bx=sns.countplot(x='bmi',data=df)\n",
    "print(df['bmi'].value_counts())\n",
    "plt.show()"
   ]
  },
  {
   "cell_type": "code",
   "execution_count": 23,
   "id": "2ac3e4b7",
   "metadata": {},
   "outputs": [
    {
     "name": "stdout",
     "output_type": "stream",
     "text": [
      "0    574\n",
      "1    324\n",
      "2    240\n",
      "3    157\n",
      "4     25\n",
      "5     18\n",
      "Name: children, dtype: int64\n"
     ]
    },
    {
     "data": {
      "image/png": "[encoded data removed]",
      "text/plain": [
       "<Figure size 640x480 with 1 Axes>"
      ]
     },
     "metadata": {},
     "output_type": "display_data"
    }
   ],
   "source": [
    "bx=sns.countplot(x='children',data=df)\n",
    "print(df['children'].value_counts())\n",
    "plt.show()"
   ]
  },
  {
   "cell_type": "code",
   "execution_count": 24,
   "id": "439a26a6",
   "metadata": {},
   "outputs": [
    {
     "name": "stdout",
     "output_type": "stream",
     "text": [
      "no     1064\n",
      "yes     274\n",
      "Name: smoker, dtype: int64\n"
     ]
    },
    {
     "data": {
      "image/png": "[encoded data removed]",
      "text/plain": [
       "<Figure size 640x480 with 1 Axes>"
      ]
     },
     "metadata": {},
     "output_type": "display_data"
    }
   ],
   "source": [
    "bx=sns.countplot(x='smoker',data=df)\n",
    "print(df['smoker'].value_counts())\n",
    "plt.show()"
   ]
  },
  {
   "cell_type": "code",
   "execution_count": 25,
   "id": "b041c262",
   "metadata": {},
   "outputs": [
    {
     "name": "stdout",
     "output_type": "stream",
     "text": [
      "southeast    364\n",
      "southwest    325\n",
      "northwest    325\n",
      "northeast    324\n",
      "Name: region, dtype: int64\n"
     ]
    },
    {
     "data": {
      "image/png": "[encoded data removed]",
      "text/plain": [
       "<Figure size 640x480 with 1 Axes>"
      ]
     },
     "metadata": {},
     "output_type": "display_data"
    }
   ],
   "source": [
    "bx=sns.countplot(x='region',data=df)\n",
    "print(df['region'].value_counts())\n",
    "plt.show()"
   ]
  },
  {
   "cell_type": "code",
   "execution_count": 26,
   "id": "ba226c5e",
   "metadata": {},
   "outputs": [
    {
     "data": {
      "image/png": "[encoded data removed]",
      "text/plain": [
       "<Figure size 500x500 with 1 Axes>"
      ]
     },
     "metadata": {},
     "output_type": "display_data"
    }
   ],
   "source": [
    "sns.catplot(x='sex',y='age',data=df)\n",
    "plt.title('compairing b/w age and sex')\n",
    "plt.show()"
   ]
  },
  {
   "cell_type": "markdown",
   "id": "4da738f7",
   "metadata": {},
   "source": [
    "Here we are converting categarical data to numerical data so we use Encoding Technique to converting the dataset."
   ]
  },
  {
   "cell_type": "code",
   "execution_count": 27,
   "id": "584ec0c1",
   "metadata": {},
   "outputs": [
    {
     "data": {
      "text/html": [
       "<div>\n",
       "<style scoped>\n",
       "    .dataframe tbody tr th:only-of-type {\n",
       "        vertical-align: middle;\n",
       "    }\n",
       "\n",
       "    .dataframe tbody tr th {\n",
       "        vertical-align: top;\n",
       "    }\n",
       "\n",
       "    .dataframe thead th {\n",
       "        text-align: right;\n",
       "    }\n",
       "</style>\n",
       "<table border=\"1\" class=\"dataframe\">\n",
       "  <thead>\n",
       "    <tr style=\"text-align: right;\">\n",
       "      <th></th>\n",
       "      <th>age</th>\n",
       "      <th>sex</th>\n",
       "      <th>bmi</th>\n",
       "      <th>children</th>\n",
       "      <th>smoker</th>\n",
       "      <th>region</th>\n",
       "      <th>charges</th>\n",
       "    </tr>\n",
       "  </thead>\n",
       "  <tbody>\n",
       "    <tr>\n",
       "      <th>0</th>\n",
       "      <td>19</td>\n",
       "      <td>0.0</td>\n",
       "      <td>27.900</td>\n",
       "      <td>0</td>\n",
       "      <td>1.0</td>\n",
       "      <td>3.0</td>\n",
       "      <td>16884.92400</td>\n",
       "    </tr>\n",
       "    <tr>\n",
       "      <th>1</th>\n",
       "      <td>18</td>\n",
       "      <td>1.0</td>\n",
       "      <td>33.770</td>\n",
       "      <td>1</td>\n",
       "      <td>0.0</td>\n",
       "      <td>2.0</td>\n",
       "      <td>1725.55230</td>\n",
       "    </tr>\n",
       "    <tr>\n",
       "      <th>2</th>\n",
       "      <td>28</td>\n",
       "      <td>1.0</td>\n",
       "      <td>33.000</td>\n",
       "      <td>3</td>\n",
       "      <td>0.0</td>\n",
       "      <td>2.0</td>\n",
       "      <td>4449.46200</td>\n",
       "    </tr>\n",
       "    <tr>\n",
       "      <th>3</th>\n",
       "      <td>33</td>\n",
       "      <td>1.0</td>\n",
       "      <td>22.705</td>\n",
       "      <td>0</td>\n",
       "      <td>0.0</td>\n",
       "      <td>1.0</td>\n",
       "      <td>21984.47061</td>\n",
       "    </tr>\n",
       "    <tr>\n",
       "      <th>4</th>\n",
       "      <td>32</td>\n",
       "      <td>1.0</td>\n",
       "      <td>28.880</td>\n",
       "      <td>0</td>\n",
       "      <td>0.0</td>\n",
       "      <td>1.0</td>\n",
       "      <td>3866.85520</td>\n",
       "    </tr>\n",
       "    <tr>\n",
       "      <th>...</th>\n",
       "      <td>...</td>\n",
       "      <td>...</td>\n",
       "      <td>...</td>\n",
       "      <td>...</td>\n",
       "      <td>...</td>\n",
       "      <td>...</td>\n",
       "      <td>...</td>\n",
       "    </tr>\n",
       "    <tr>\n",
       "      <th>1333</th>\n",
       "      <td>50</td>\n",
       "      <td>1.0</td>\n",
       "      <td>30.970</td>\n",
       "      <td>3</td>\n",
       "      <td>0.0</td>\n",
       "      <td>1.0</td>\n",
       "      <td>10600.54830</td>\n",
       "    </tr>\n",
       "    <tr>\n",
       "      <th>1334</th>\n",
       "      <td>18</td>\n",
       "      <td>0.0</td>\n",
       "      <td>31.920</td>\n",
       "      <td>0</td>\n",
       "      <td>0.0</td>\n",
       "      <td>0.0</td>\n",
       "      <td>2205.98080</td>\n",
       "    </tr>\n",
       "    <tr>\n",
       "      <th>1335</th>\n",
       "      <td>18</td>\n",
       "      <td>0.0</td>\n",
       "      <td>36.850</td>\n",
       "      <td>0</td>\n",
       "      <td>0.0</td>\n",
       "      <td>2.0</td>\n",
       "      <td>1629.83350</td>\n",
       "    </tr>\n",
       "    <tr>\n",
       "      <th>1336</th>\n",
       "      <td>21</td>\n",
       "      <td>0.0</td>\n",
       "      <td>25.800</td>\n",
       "      <td>0</td>\n",
       "      <td>0.0</td>\n",
       "      <td>3.0</td>\n",
       "      <td>2007.94500</td>\n",
       "    </tr>\n",
       "    <tr>\n",
       "      <th>1337</th>\n",
       "      <td>61</td>\n",
       "      <td>0.0</td>\n",
       "      <td>29.070</td>\n",
       "      <td>0</td>\n",
       "      <td>1.0</td>\n",
       "      <td>1.0</td>\n",
       "      <td>29141.36030</td>\n",
       "    </tr>\n",
       "  </tbody>\n",
       "</table>\n",
       "<p>1338 rows × 7 columns</p>\n",
       "</div>"
      ],
      "text/plain": [
       "      age  sex     bmi  children  smoker  region      charges\n",
       "0      19  0.0  27.900         0     1.0     3.0  16884.92400\n",
       "1      18  1.0  33.770         1     0.0     2.0   1725.55230\n",
       "2      28  1.0  33.000         3     0.0     2.0   4449.46200\n",
       "3      33  1.0  22.705         0     0.0     1.0  21984.47061\n",
       "4      32  1.0  28.880         0     0.0     1.0   3866.85520\n",
       "...   ...  ...     ...       ...     ...     ...          ...\n",
       "1333   50  1.0  30.970         3     0.0     1.0  10600.54830\n",
       "1334   18  0.0  31.920         0     0.0     0.0   2205.98080\n",
       "1335   18  0.0  36.850         0     0.0     2.0   1629.83350\n",
       "1336   21  0.0  25.800         0     0.0     3.0   2007.94500\n",
       "1337   61  0.0  29.070         0     1.0     1.0  29141.36030\n",
       "\n",
       "[1338 rows x 7 columns]"
      ]
     },
     "execution_count": 27,
     "metadata": {},
     "output_type": "execute_result"
    }
   ],
   "source": [
    "import sklearn\n",
    "from sklearn.preprocessing import OrdinalEncoder\n",
    "enc=OrdinalEncoder()\n",
    "for i in df.columns:\n",
    "    if df[i].dtypes=='object':\n",
    "        df[i]=enc.fit_transform(df[i].values.reshape(-1,1))\n",
    "df"
   ]
  },
  {
   "cell_type": "markdown",
   "id": "b41c35e3",
   "metadata": {},
   "source": [
    "Here we are checking visualy outliers are present in the dataset."
   ]
  },
  {
   "cell_type": "code",
   "execution_count": 28,
   "id": "27063508",
   "metadata": {},
   "outputs": [
    {
     "data": {
      "text/plain": [
       "age            Axes(0.125,0.53;0.110714x0.35)\n",
       "sex         Axes(0.257857,0.53;0.110714x0.35)\n",
       "bmi         Axes(0.390714,0.53;0.110714x0.35)\n",
       "children    Axes(0.523571,0.53;0.110714x0.35)\n",
       "smoker      Axes(0.656429,0.53;0.110714x0.35)\n",
       "region      Axes(0.789286,0.53;0.110714x0.35)\n",
       "charges        Axes(0.125,0.11;0.110714x0.35)\n",
       "dtype: object"
      ]
     },
     "execution_count": 28,
     "metadata": {},
     "output_type": "execute_result"
    },
    {
     "data": {
      "image/png": "[encoded data removed]",
      "text/plain": [
       "<Figure size 1000x1000 with 12 Axes>"
      ]
     },
     "metadata": {},
     "output_type": "display_data"
    }
   ],
   "source": [
    "df.plot(kind='box',subplots=True,layout=(2,6),figsize=(10,10))"
   ]
  },
  {
   "cell_type": "code",
   "execution_count": 29,
   "id": "3a0eb512",
   "metadata": {},
   "outputs": [
    {
     "data": {
      "text/plain": [
       "age         0.055673\n",
       "sex        -0.020951\n",
       "bmi         0.284047\n",
       "children    0.938380\n",
       "smoker      1.464766\n",
       "region     -0.038101\n",
       "charges     1.515880\n",
       "dtype: float64"
      ]
     },
     "execution_count": 29,
     "metadata": {},
     "output_type": "execute_result"
    }
   ],
   "source": [
    "df.skew()"
   ]
  },
  {
   "cell_type": "markdown",
   "id": "8a9bedfb",
   "metadata": {},
   "source": [
    "here we are checking skewness in the dataset. as we can see In smoker column have sknewnwess since it  is categorical data  so no need to remove the skewness."
   ]
  },
  {
   "cell_type": "code",
   "execution_count": 30,
   "id": "839526ae",
   "metadata": {},
   "outputs": [
    {
     "data": {
      "text/plain": [
       "(1338, 7)"
      ]
     },
     "execution_count": 30,
     "metadata": {},
     "output_type": "execute_result"
    }
   ],
   "source": [
    "df.shape"
   ]
  },
  {
   "cell_type": "markdown",
   "id": "9f1b0f3e",
   "metadata": {},
   "source": [
    "Here we are using Zcore to remove outliers in above data."
   ]
  },
  {
   "cell_type": "code",
   "execution_count": 31,
   "id": "5e86c3e7",
   "metadata": {},
   "outputs": [
    {
     "data": {
      "text/html": [
       "<div>\n",
       "<style scoped>\n",
       "    .dataframe tbody tr th:only-of-type {\n",
       "        vertical-align: middle;\n",
       "    }\n",
       "\n",
       "    .dataframe tbody tr th {\n",
       "        vertical-align: top;\n",
       "    }\n",
       "\n",
       "    .dataframe thead th {\n",
       "        text-align: right;\n",
       "    }\n",
       "</style>\n",
       "<table border=\"1\" class=\"dataframe\">\n",
       "  <thead>\n",
       "    <tr style=\"text-align: right;\">\n",
       "      <th></th>\n",
       "      <th>age</th>\n",
       "      <th>sex</th>\n",
       "      <th>bmi</th>\n",
       "      <th>children</th>\n",
       "      <th>smoker</th>\n",
       "      <th>region</th>\n",
       "      <th>charges</th>\n",
       "    </tr>\n",
       "  </thead>\n",
       "  <tbody>\n",
       "    <tr>\n",
       "      <th>0</th>\n",
       "      <td>1.438764</td>\n",
       "      <td>1.010519</td>\n",
       "      <td>0.453320</td>\n",
       "      <td>0.908614</td>\n",
       "      <td>1.970587</td>\n",
       "      <td>1.343905</td>\n",
       "      <td>0.298584</td>\n",
       "    </tr>\n",
       "    <tr>\n",
       "      <th>1</th>\n",
       "      <td>1.509965</td>\n",
       "      <td>0.989591</td>\n",
       "      <td>0.509621</td>\n",
       "      <td>0.078767</td>\n",
       "      <td>0.507463</td>\n",
       "      <td>0.438495</td>\n",
       "      <td>0.953689</td>\n",
       "    </tr>\n",
       "    <tr>\n",
       "      <th>2</th>\n",
       "      <td>0.797954</td>\n",
       "      <td>0.989591</td>\n",
       "      <td>0.383307</td>\n",
       "      <td>1.580926</td>\n",
       "      <td>0.507463</td>\n",
       "      <td>0.438495</td>\n",
       "      <td>0.728675</td>\n",
       "    </tr>\n",
       "    <tr>\n",
       "      <th>3</th>\n",
       "      <td>0.441948</td>\n",
       "      <td>0.989591</td>\n",
       "      <td>1.305531</td>\n",
       "      <td>0.908614</td>\n",
       "      <td>0.507463</td>\n",
       "      <td>0.466915</td>\n",
       "      <td>0.719843</td>\n",
       "    </tr>\n",
       "    <tr>\n",
       "      <th>4</th>\n",
       "      <td>0.513149</td>\n",
       "      <td>0.989591</td>\n",
       "      <td>0.292556</td>\n",
       "      <td>0.908614</td>\n",
       "      <td>0.507463</td>\n",
       "      <td>0.466915</td>\n",
       "      <td>0.776802</td>\n",
       "    </tr>\n",
       "    <tr>\n",
       "      <th>...</th>\n",
       "      <td>...</td>\n",
       "      <td>...</td>\n",
       "      <td>...</td>\n",
       "      <td>...</td>\n",
       "      <td>...</td>\n",
       "      <td>...</td>\n",
       "      <td>...</td>\n",
       "    </tr>\n",
       "    <tr>\n",
       "      <th>1333</th>\n",
       "      <td>0.768473</td>\n",
       "      <td>0.989591</td>\n",
       "      <td>0.050297</td>\n",
       "      <td>1.580926</td>\n",
       "      <td>0.507463</td>\n",
       "      <td>0.466915</td>\n",
       "      <td>0.220551</td>\n",
       "    </tr>\n",
       "    <tr>\n",
       "      <th>1334</th>\n",
       "      <td>1.509965</td>\n",
       "      <td>1.010519</td>\n",
       "      <td>0.206139</td>\n",
       "      <td>0.908614</td>\n",
       "      <td>0.507463</td>\n",
       "      <td>1.372326</td>\n",
       "      <td>0.914002</td>\n",
       "    </tr>\n",
       "    <tr>\n",
       "      <th>1335</th>\n",
       "      <td>1.509965</td>\n",
       "      <td>1.010519</td>\n",
       "      <td>1.014878</td>\n",
       "      <td>0.908614</td>\n",
       "      <td>0.507463</td>\n",
       "      <td>0.438495</td>\n",
       "      <td>0.961596</td>\n",
       "    </tr>\n",
       "    <tr>\n",
       "      <th>1336</th>\n",
       "      <td>1.296362</td>\n",
       "      <td>1.010519</td>\n",
       "      <td>0.797813</td>\n",
       "      <td>0.908614</td>\n",
       "      <td>0.507463</td>\n",
       "      <td>1.343905</td>\n",
       "      <td>0.930362</td>\n",
       "    </tr>\n",
       "    <tr>\n",
       "      <th>1337</th>\n",
       "      <td>1.551686</td>\n",
       "      <td>1.010519</td>\n",
       "      <td>0.261388</td>\n",
       "      <td>0.908614</td>\n",
       "      <td>1.970587</td>\n",
       "      <td>0.466915</td>\n",
       "      <td>1.311053</td>\n",
       "    </tr>\n",
       "  </tbody>\n",
       "</table>\n",
       "<p>1338 rows × 7 columns</p>\n",
       "</div>"
      ],
      "text/plain": [
       "           age       sex       bmi  children    smoker    region   charges\n",
       "0     1.438764  1.010519  0.453320  0.908614  1.970587  1.343905  0.298584\n",
       "1     1.509965  0.989591  0.509621  0.078767  0.507463  0.438495  0.953689\n",
       "2     0.797954  0.989591  0.383307  1.580926  0.507463  0.438495  0.728675\n",
       "3     0.441948  0.989591  1.305531  0.908614  0.507463  0.466915  0.719843\n",
       "4     0.513149  0.989591  0.292556  0.908614  0.507463  0.466915  0.776802\n",
       "...        ...       ...       ...       ...       ...       ...       ...\n",
       "1333  0.768473  0.989591  0.050297  1.580926  0.507463  0.466915  0.220551\n",
       "1334  1.509965  1.010519  0.206139  0.908614  0.507463  1.372326  0.914002\n",
       "1335  1.509965  1.010519  1.014878  0.908614  0.507463  0.438495  0.961596\n",
       "1336  1.296362  1.010519  0.797813  0.908614  0.507463  1.343905  0.930362\n",
       "1337  1.551686  1.010519  0.261388  0.908614  1.970587  0.466915  1.311053\n",
       "\n",
       "[1338 rows x 7 columns]"
      ]
     },
     "execution_count": 31,
     "metadata": {},
     "output_type": "execute_result"
    }
   ],
   "source": [
    "from scipy.stats import zscore\n",
    "z=np.abs(zscore(df))\n",
    "z"
   ]
  },
  {
   "cell_type": "code",
   "execution_count": 32,
   "id": "33878552",
   "metadata": {},
   "outputs": [
    {
     "name": "stdout",
     "output_type": "stream",
     "text": [
      "(array([  32,   34,   71,  116,  166,  413,  425,  438,  543,  568,  577,\n",
      "        640,  819,  847,  877,  932,  937,  969,  984, 1047, 1085, 1116,\n",
      "       1130, 1146, 1230, 1245, 1272, 1300, 1317], dtype=int64), array([3, 6, 3, 2, 3, 3, 3, 3, 6, 3, 6, 3, 6, 2, 3, 3, 3, 3, 3, 2, 3, 3,\n",
      "       3, 6, 6, 3, 3, 6, 2], dtype=int64))\n"
     ]
    }
   ],
   "source": [
    "threshold=3\n",
    "print(np.where(z>3))"
   ]
  },
  {
   "cell_type": "code",
   "execution_count": 35,
   "id": "77b87df6",
   "metadata": {},
   "outputs": [
    {
     "data": {
      "text/html": [
       "<div>\n",
       "<style scoped>\n",
       "    .dataframe tbody tr th:only-of-type {\n",
       "        vertical-align: middle;\n",
       "    }\n",
       "\n",
       "    .dataframe tbody tr th {\n",
       "        vertical-align: top;\n",
       "    }\n",
       "\n",
       "    .dataframe thead th {\n",
       "        text-align: right;\n",
       "    }\n",
       "</style>\n",
       "<table border=\"1\" class=\"dataframe\">\n",
       "  <thead>\n",
       "    <tr style=\"text-align: right;\">\n",
       "      <th></th>\n",
       "      <th>age</th>\n",
       "      <th>sex</th>\n",
       "      <th>bmi</th>\n",
       "      <th>children</th>\n",
       "      <th>smoker</th>\n",
       "      <th>region</th>\n",
       "      <th>charges</th>\n",
       "    </tr>\n",
       "  </thead>\n",
       "  <tbody>\n",
       "    <tr>\n",
       "      <th>0</th>\n",
       "      <td>19</td>\n",
       "      <td>0.0</td>\n",
       "      <td>27.900</td>\n",
       "      <td>0</td>\n",
       "      <td>1.0</td>\n",
       "      <td>3.0</td>\n",
       "      <td>16884.92400</td>\n",
       "    </tr>\n",
       "    <tr>\n",
       "      <th>1</th>\n",
       "      <td>18</td>\n",
       "      <td>1.0</td>\n",
       "      <td>33.770</td>\n",
       "      <td>1</td>\n",
       "      <td>0.0</td>\n",
       "      <td>2.0</td>\n",
       "      <td>1725.55230</td>\n",
       "    </tr>\n",
       "    <tr>\n",
       "      <th>2</th>\n",
       "      <td>28</td>\n",
       "      <td>1.0</td>\n",
       "      <td>33.000</td>\n",
       "      <td>3</td>\n",
       "      <td>0.0</td>\n",
       "      <td>2.0</td>\n",
       "      <td>4449.46200</td>\n",
       "    </tr>\n",
       "    <tr>\n",
       "      <th>3</th>\n",
       "      <td>33</td>\n",
       "      <td>1.0</td>\n",
       "      <td>22.705</td>\n",
       "      <td>0</td>\n",
       "      <td>0.0</td>\n",
       "      <td>1.0</td>\n",
       "      <td>21984.47061</td>\n",
       "    </tr>\n",
       "    <tr>\n",
       "      <th>4</th>\n",
       "      <td>32</td>\n",
       "      <td>1.0</td>\n",
       "      <td>28.880</td>\n",
       "      <td>0</td>\n",
       "      <td>0.0</td>\n",
       "      <td>1.0</td>\n",
       "      <td>3866.85520</td>\n",
       "    </tr>\n",
       "    <tr>\n",
       "      <th>...</th>\n",
       "      <td>...</td>\n",
       "      <td>...</td>\n",
       "      <td>...</td>\n",
       "      <td>...</td>\n",
       "      <td>...</td>\n",
       "      <td>...</td>\n",
       "      <td>...</td>\n",
       "    </tr>\n",
       "    <tr>\n",
       "      <th>1333</th>\n",
       "      <td>50</td>\n",
       "      <td>1.0</td>\n",
       "      <td>30.970</td>\n",
       "      <td>3</td>\n",
       "      <td>0.0</td>\n",
       "      <td>1.0</td>\n",
       "      <td>10600.54830</td>\n",
       "    </tr>\n",
       "    <tr>\n",
       "      <th>1334</th>\n",
       "      <td>18</td>\n",
       "      <td>0.0</td>\n",
       "      <td>31.920</td>\n",
       "      <td>0</td>\n",
       "      <td>0.0</td>\n",
       "      <td>0.0</td>\n",
       "      <td>2205.98080</td>\n",
       "    </tr>\n",
       "    <tr>\n",
       "      <th>1335</th>\n",
       "      <td>18</td>\n",
       "      <td>0.0</td>\n",
       "      <td>36.850</td>\n",
       "      <td>0</td>\n",
       "      <td>0.0</td>\n",
       "      <td>2.0</td>\n",
       "      <td>1629.83350</td>\n",
       "    </tr>\n",
       "    <tr>\n",
       "      <th>1336</th>\n",
       "      <td>21</td>\n",
       "      <td>0.0</td>\n",
       "      <td>25.800</td>\n",
       "      <td>0</td>\n",
       "      <td>0.0</td>\n",
       "      <td>3.0</td>\n",
       "      <td>2007.94500</td>\n",
       "    </tr>\n",
       "    <tr>\n",
       "      <th>1337</th>\n",
       "      <td>61</td>\n",
       "      <td>0.0</td>\n",
       "      <td>29.070</td>\n",
       "      <td>0</td>\n",
       "      <td>1.0</td>\n",
       "      <td>1.0</td>\n",
       "      <td>29141.36030</td>\n",
       "    </tr>\n",
       "  </tbody>\n",
       "</table>\n",
       "<p>1309 rows × 7 columns</p>\n",
       "</div>"
      ],
      "text/plain": [
       "      age  sex     bmi  children  smoker  region      charges\n",
       "0      19  0.0  27.900         0     1.0     3.0  16884.92400\n",
       "1      18  1.0  33.770         1     0.0     2.0   1725.55230\n",
       "2      28  1.0  33.000         3     0.0     2.0   4449.46200\n",
       "3      33  1.0  22.705         0     0.0     1.0  21984.47061\n",
       "4      32  1.0  28.880         0     0.0     1.0   3866.85520\n",
       "...   ...  ...     ...       ...     ...     ...          ...\n",
       "1333   50  1.0  30.970         3     0.0     1.0  10600.54830\n",
       "1334   18  0.0  31.920         0     0.0     0.0   2205.98080\n",
       "1335   18  0.0  36.850         0     0.0     2.0   1629.83350\n",
       "1336   21  0.0  25.800         0     0.0     3.0   2007.94500\n",
       "1337   61  0.0  29.070         0     1.0     1.0  29141.36030\n",
       "\n",
       "[1309 rows x 7 columns]"
      ]
     },
     "execution_count": 35,
     "metadata": {},
     "output_type": "execute_result"
    }
   ],
   "source": [
    "df_new=df[(z<3).all(axis=1)]\n",
    "df_new"
   ]
  },
  {
   "cell_type": "code",
   "execution_count": 36,
   "id": "be21dd9a",
   "metadata": {},
   "outputs": [
    {
     "data": {
      "text/plain": [
       "(1309, 7)"
      ]
     },
     "execution_count": 36,
     "metadata": {},
     "output_type": "execute_result"
    }
   ],
   "source": [
    "df_new.shape"
   ]
  },
  {
   "cell_type": "code",
   "execution_count": 37,
   "id": "d63d8440",
   "metadata": {},
   "outputs": [],
   "source": [
    "df=df_new"
   ]
  },
  {
   "cell_type": "code",
   "execution_count": 38,
   "id": "80f1b3d6",
   "metadata": {},
   "outputs": [
    {
     "data": {
      "text/plain": [
       "(1309, 7)"
      ]
     },
     "execution_count": 38,
     "metadata": {},
     "output_type": "execute_result"
    }
   ],
   "source": [
    "df.shape"
   ]
  },
  {
   "cell_type": "markdown",
   "id": "7910f249",
   "metadata": {},
   "source": [
    "correlation b/w Target and independent variable"
   ]
  },
  {
   "cell_type": "code",
   "execution_count": 39,
   "id": "b6ded775",
   "metadata": {},
   "outputs": [
    {
     "data": {
      "text/html": [
       "<div>\n",
       "<style scoped>\n",
       "    .dataframe tbody tr th:only-of-type {\n",
       "        vertical-align: middle;\n",
       "    }\n",
       "\n",
       "    .dataframe tbody tr th {\n",
       "        vertical-align: top;\n",
       "    }\n",
       "\n",
       "    .dataframe thead th {\n",
       "        text-align: right;\n",
       "    }\n",
       "</style>\n",
       "<table border=\"1\" class=\"dataframe\">\n",
       "  <thead>\n",
       "    <tr style=\"text-align: right;\">\n",
       "      <th></th>\n",
       "      <th>age</th>\n",
       "      <th>sex</th>\n",
       "      <th>bmi</th>\n",
       "      <th>children</th>\n",
       "      <th>smoker</th>\n",
       "      <th>region</th>\n",
       "      <th>charges</th>\n",
       "    </tr>\n",
       "  </thead>\n",
       "  <tbody>\n",
       "    <tr>\n",
       "      <th>age</th>\n",
       "      <td>1.000000</td>\n",
       "      <td>-0.019253</td>\n",
       "      <td>0.118178</td>\n",
       "      <td>0.059100</td>\n",
       "      <td>-0.029090</td>\n",
       "      <td>0.003121</td>\n",
       "      <td>0.305263</td>\n",
       "    </tr>\n",
       "    <tr>\n",
       "      <th>sex</th>\n",
       "      <td>-0.019253</td>\n",
       "      <td>1.000000</td>\n",
       "      <td>0.042498</td>\n",
       "      <td>0.014056</td>\n",
       "      <td>0.079058</td>\n",
       "      <td>0.003084</td>\n",
       "      <td>0.059455</td>\n",
       "    </tr>\n",
       "    <tr>\n",
       "      <th>bmi</th>\n",
       "      <td>0.118178</td>\n",
       "      <td>0.042498</td>\n",
       "      <td>1.000000</td>\n",
       "      <td>0.029916</td>\n",
       "      <td>-0.005288</td>\n",
       "      <td>0.160126</td>\n",
       "      <td>0.191453</td>\n",
       "    </tr>\n",
       "    <tr>\n",
       "      <th>children</th>\n",
       "      <td>0.059100</td>\n",
       "      <td>0.014056</td>\n",
       "      <td>0.029916</td>\n",
       "      <td>1.000000</td>\n",
       "      <td>0.028844</td>\n",
       "      <td>-0.002976</td>\n",
       "      <td>0.100438</td>\n",
       "    </tr>\n",
       "    <tr>\n",
       "      <th>smoker</th>\n",
       "      <td>-0.029090</td>\n",
       "      <td>0.079058</td>\n",
       "      <td>-0.005288</td>\n",
       "      <td>0.028844</td>\n",
       "      <td>1.000000</td>\n",
       "      <td>-0.003474</td>\n",
       "      <td>0.785129</td>\n",
       "    </tr>\n",
       "    <tr>\n",
       "      <th>region</th>\n",
       "      <td>0.003121</td>\n",
       "      <td>0.003084</td>\n",
       "      <td>0.160126</td>\n",
       "      <td>-0.002976</td>\n",
       "      <td>-0.003474</td>\n",
       "      <td>1.000000</td>\n",
       "      <td>-0.007633</td>\n",
       "    </tr>\n",
       "    <tr>\n",
       "      <th>charges</th>\n",
       "      <td>0.305263</td>\n",
       "      <td>0.059455</td>\n",
       "      <td>0.191453</td>\n",
       "      <td>0.100438</td>\n",
       "      <td>0.785129</td>\n",
       "      <td>-0.007633</td>\n",
       "      <td>1.000000</td>\n",
       "    </tr>\n",
       "  </tbody>\n",
       "</table>\n",
       "</div>"
      ],
      "text/plain": [
       "               age       sex       bmi  children    smoker    region   charges\n",
       "age       1.000000 -0.019253  0.118178  0.059100 -0.029090  0.003121  0.305263\n",
       "sex      -0.019253  1.000000  0.042498  0.014056  0.079058  0.003084  0.059455\n",
       "bmi       0.118178  0.042498  1.000000  0.029916 -0.005288  0.160126  0.191453\n",
       "children  0.059100  0.014056  0.029916  1.000000  0.028844 -0.002976  0.100438\n",
       "smoker   -0.029090  0.079058 -0.005288  0.028844  1.000000 -0.003474  0.785129\n",
       "region    0.003121  0.003084  0.160126 -0.002976 -0.003474  1.000000 -0.007633\n",
       "charges   0.305263  0.059455  0.191453  0.100438  0.785129 -0.007633  1.000000"
      ]
     },
     "execution_count": 39,
     "metadata": {},
     "output_type": "execute_result"
    }
   ],
   "source": [
    "corr=df.corr()\n",
    "corr"
   ]
  },
  {
   "cell_type": "code",
   "execution_count": 42,
   "id": "445caba6",
   "metadata": {},
   "outputs": [
    {
     "data": {
      "image/png": "[encoded data removed]",
      "text/plain": [
       "<Figure size 2000x1500 with 2 Axes>"
      ]
     },
     "metadata": {},
     "output_type": "display_data"
    }
   ],
   "source": [
    "plt.figure(figsize=(20,15))\n",
    "sns.heatmap(df.corr(),linewidths=0.1,fmt='0.1g',linecolor='black',annot=True,cmap='Blues_r')\n",
    "plt.show()"
   ]
  },
  {
   "cell_type": "code",
   "execution_count": 48,
   "id": "54deb802",
   "metadata": {},
   "outputs": [
    {
     "data": {
      "text/plain": [
       "charges     1.000000\n",
       "smoker      0.785129\n",
       "age         0.305263\n",
       "bmi         0.191453\n",
       "children    0.100438\n",
       "sex         0.059455\n",
       "region     -0.007633\n",
       "Name: charges, dtype: float64"
      ]
     },
     "execution_count": 48,
     "metadata": {},
     "output_type": "execute_result"
    }
   ],
   "source": [
    "corr['charges'].sort_values(ascending=False)"
   ]
  },
  {
   "cell_type": "markdown",
   "id": "9053a1fe",
   "metadata": {},
   "source": [
    "Seperating Feature (x) and Label(y)"
   ]
  },
  {
   "cell_type": "code",
   "execution_count": 45,
   "id": "a289e4bc",
   "metadata": {},
   "outputs": [],
   "source": [
    "x=df.drop('charges',axis=1)"
   ]
  },
  {
   "cell_type": "code",
   "execution_count": 46,
   "id": "45706af9",
   "metadata": {},
   "outputs": [],
   "source": [
    "y=df['charges']"
   ]
  },
  {
   "cell_type": "markdown",
   "id": "698e8c10",
   "metadata": {},
   "source": [
    "Featuring Scaling."
   ]
  },
  {
   "cell_type": "code",
   "execution_count": 53,
   "id": "8caeb033",
   "metadata": {
    "scrolled": true
   },
   "outputs": [
    {
     "data": {
      "text/html": [
       "<div>\n",
       "<style scoped>\n",
       "    .dataframe tbody tr th:only-of-type {\n",
       "        vertical-align: middle;\n",
       "    }\n",
       "\n",
       "    .dataframe tbody tr th {\n",
       "        vertical-align: top;\n",
       "    }\n",
       "\n",
       "    .dataframe thead th {\n",
       "        text-align: right;\n",
       "    }\n",
       "</style>\n",
       "<table border=\"1\" class=\"dataframe\">\n",
       "  <thead>\n",
       "    <tr style=\"text-align: right;\">\n",
       "      <th></th>\n",
       "      <th>age</th>\n",
       "      <th>sex</th>\n",
       "      <th>bmi</th>\n",
       "      <th>children</th>\n",
       "      <th>smoker</th>\n",
       "      <th>region</th>\n",
       "    </tr>\n",
       "  </thead>\n",
       "  <tbody>\n",
       "    <tr>\n",
       "      <th>0</th>\n",
       "      <td>-1.439063</td>\n",
       "      <td>-1.005362</td>\n",
       "      <td>-0.449359</td>\n",
       "      <td>-0.929616</td>\n",
       "      <td>1.984848</td>\n",
       "      <td>1.352753</td>\n",
       "    </tr>\n",
       "    <tr>\n",
       "      <th>1</th>\n",
       "      <td>-1.510086</td>\n",
       "      <td>0.994667</td>\n",
       "      <td>0.533391</td>\n",
       "      <td>-0.040093</td>\n",
       "      <td>-0.503817</td>\n",
       "      <td>0.447460</td>\n",
       "    </tr>\n",
       "    <tr>\n",
       "      <th>2</th>\n",
       "      <td>-0.799859</td>\n",
       "      <td>0.994667</td>\n",
       "      <td>0.404478</td>\n",
       "      <td>1.738954</td>\n",
       "      <td>-0.503817</td>\n",
       "      <td>0.447460</td>\n",
       "    </tr>\n",
       "    <tr>\n",
       "      <th>3</th>\n",
       "      <td>-0.444746</td>\n",
       "      <td>0.994667</td>\n",
       "      <td>-1.319101</td>\n",
       "      <td>-0.929616</td>\n",
       "      <td>-0.503817</td>\n",
       "      <td>-0.457833</td>\n",
       "    </tr>\n",
       "    <tr>\n",
       "      <th>4</th>\n",
       "      <td>-0.515769</td>\n",
       "      <td>0.994667</td>\n",
       "      <td>-0.285288</td>\n",
       "      <td>-0.929616</td>\n",
       "      <td>-0.503817</td>\n",
       "      <td>-0.457833</td>\n",
       "    </tr>\n",
       "    <tr>\n",
       "      <th>...</th>\n",
       "      <td>...</td>\n",
       "      <td>...</td>\n",
       "      <td>...</td>\n",
       "      <td>...</td>\n",
       "      <td>...</td>\n",
       "      <td>...</td>\n",
       "    </tr>\n",
       "    <tr>\n",
       "      <th>1304</th>\n",
       "      <td>0.762639</td>\n",
       "      <td>0.994667</td>\n",
       "      <td>0.064617</td>\n",
       "      <td>1.738954</td>\n",
       "      <td>-0.503817</td>\n",
       "      <td>-0.457833</td>\n",
       "    </tr>\n",
       "    <tr>\n",
       "      <th>1305</th>\n",
       "      <td>-1.510086</td>\n",
       "      <td>-1.005362</td>\n",
       "      <td>0.223666</td>\n",
       "      <td>-0.929616</td>\n",
       "      <td>-0.503817</td>\n",
       "      <td>-1.363127</td>\n",
       "    </tr>\n",
       "    <tr>\n",
       "      <th>1306</th>\n",
       "      <td>-1.510086</td>\n",
       "      <td>-1.005362</td>\n",
       "      <td>1.049041</td>\n",
       "      <td>-0.929616</td>\n",
       "      <td>-0.503817</td>\n",
       "      <td>0.447460</td>\n",
       "    </tr>\n",
       "    <tr>\n",
       "      <th>1307</th>\n",
       "      <td>-1.297018</td>\n",
       "      <td>-1.005362</td>\n",
       "      <td>-0.800939</td>\n",
       "      <td>-0.929616</td>\n",
       "      <td>-0.503817</td>\n",
       "      <td>1.352753</td>\n",
       "    </tr>\n",
       "    <tr>\n",
       "      <th>1308</th>\n",
       "      <td>1.543888</td>\n",
       "      <td>-1.005362</td>\n",
       "      <td>-0.253479</td>\n",
       "      <td>-0.929616</td>\n",
       "      <td>1.984848</td>\n",
       "      <td>-0.457833</td>\n",
       "    </tr>\n",
       "  </tbody>\n",
       "</table>\n",
       "<p>1309 rows × 6 columns</p>\n",
       "</div>"
      ],
      "text/plain": [
       "           age       sex       bmi  children    smoker    region\n",
       "0    -1.439063 -1.005362 -0.449359 -0.929616  1.984848  1.352753\n",
       "1    -1.510086  0.994667  0.533391 -0.040093 -0.503817  0.447460\n",
       "2    -0.799859  0.994667  0.404478  1.738954 -0.503817  0.447460\n",
       "3    -0.444746  0.994667 -1.319101 -0.929616 -0.503817 -0.457833\n",
       "4    -0.515769  0.994667 -0.285288 -0.929616 -0.503817 -0.457833\n",
       "...        ...       ...       ...       ...       ...       ...\n",
       "1304  0.762639  0.994667  0.064617  1.738954 -0.503817 -0.457833\n",
       "1305 -1.510086 -1.005362  0.223666 -0.929616 -0.503817 -1.363127\n",
       "1306 -1.510086 -1.005362  1.049041 -0.929616 -0.503817  0.447460\n",
       "1307 -1.297018 -1.005362 -0.800939 -0.929616 -0.503817  1.352753\n",
       "1308  1.543888 -1.005362 -0.253479 -0.929616  1.984848 -0.457833\n",
       "\n",
       "[1309 rows x 6 columns]"
      ]
     },
     "execution_count": 53,
     "metadata": {},
     "output_type": "execute_result"
    }
   ],
   "source": [
    "from sklearn.preprocessing import StandardScaler\n",
    "scaler=StandardScaler()\n",
    "x=pd.DataFrame(scaler.fit_transform(x),columns=x.columns)\n",
    "x"
   ]
  },
  {
   "cell_type": "markdown",
   "id": "ef790e77",
   "metadata": {},
   "source": [
    "To handle the multicorrelation we use Variance Inflation Factor(VIF)"
   ]
  },
  {
   "cell_type": "code",
   "execution_count": 55,
   "id": "ac46b702",
   "metadata": {},
   "outputs": [
    {
     "data": {
      "text/html": [
       "<div>\n",
       "<style scoped>\n",
       "    .dataframe tbody tr th:only-of-type {\n",
       "        vertical-align: middle;\n",
       "    }\n",
       "\n",
       "    .dataframe tbody tr th {\n",
       "        vertical-align: top;\n",
       "    }\n",
       "\n",
       "    .dataframe thead th {\n",
       "        text-align: right;\n",
       "    }\n",
       "</style>\n",
       "<table border=\"1\" class=\"dataframe\">\n",
       "  <thead>\n",
       "    <tr style=\"text-align: right;\">\n",
       "      <th></th>\n",
       "      <th>vif values</th>\n",
       "      <th>feature</th>\n",
       "    </tr>\n",
       "  </thead>\n",
       "  <tbody>\n",
       "    <tr>\n",
       "      <th>0</th>\n",
       "      <td>1.019082</td>\n",
       "      <td>age</td>\n",
       "    </tr>\n",
       "    <tr>\n",
       "      <th>1</th>\n",
       "      <td>1.008815</td>\n",
       "      <td>sex</td>\n",
       "    </tr>\n",
       "    <tr>\n",
       "      <th>2</th>\n",
       "      <td>1.043841</td>\n",
       "      <td>bmi</td>\n",
       "    </tr>\n",
       "    <tr>\n",
       "      <th>3</th>\n",
       "      <td>1.005176</td>\n",
       "      <td>children</td>\n",
       "    </tr>\n",
       "    <tr>\n",
       "      <th>4</th>\n",
       "      <td>1.007983</td>\n",
       "      <td>smoker</td>\n",
       "    </tr>\n",
       "    <tr>\n",
       "      <th>5</th>\n",
       "      <td>1.026656</td>\n",
       "      <td>region</td>\n",
       "    </tr>\n",
       "  </tbody>\n",
       "</table>\n",
       "</div>"
      ],
      "text/plain": [
       "   vif values   feature\n",
       "0    1.019082       age\n",
       "1    1.008815       sex\n",
       "2    1.043841       bmi\n",
       "3    1.005176  children\n",
       "4    1.007983    smoker\n",
       "5    1.026656    region"
      ]
     },
     "execution_count": 55,
     "metadata": {},
     "output_type": "execute_result"
    }
   ],
   "source": [
    "from statsmodels.stats.outliers_influence import variance_inflation_factor\n",
    "vif=pd.DataFrame()\n",
    "vif['vif values']=[variance_inflation_factor(x.values,i) for i in range(len(x.columns))]\n",
    "vif['feature']=x.columns\n",
    "vif"
   ]
  },
  {
   "cell_type": "code",
   "execution_count": 56,
   "id": "cf274b5c",
   "metadata": {},
   "outputs": [
    {
     "data": {
      "text/plain": [
       "1639.56310     2\n",
       "16884.92400    1\n",
       "13555.00490    1\n",
       "10422.91665    1\n",
       "7243.81360     1\n",
       "              ..\n",
       "28287.89766    1\n",
       "1149.39590     1\n",
       "37079.37200    1\n",
       "4738.26820     1\n",
       "29141.36030    1\n",
       "Name: charges, Length: 1308, dtype: int64"
      ]
     },
     "execution_count": 56,
     "metadata": {},
     "output_type": "execute_result"
    }
   ],
   "source": [
    "y.value_counts()"
   ]
  },
  {
   "cell_type": "code",
   "execution_count": 58,
   "id": "71b1f4d1",
   "metadata": {},
   "outputs": [
    {
     "data": {
      "text/plain": [
       "0       16884.92400\n",
       "1        1725.55230\n",
       "2        4449.46200\n",
       "3       21984.47061\n",
       "4        3866.85520\n",
       "           ...     \n",
       "1333    10600.54830\n",
       "1334     2205.98080\n",
       "1335     1629.83350\n",
       "1336     2007.94500\n",
       "1337    29141.36030\n",
       "Name: charges, Length: 1309, dtype: float64"
      ]
     },
     "execution_count": 58,
     "metadata": {},
     "output_type": "execute_result"
    }
   ],
   "source": [
    "dfy=df.iloc[:,-1]\n",
    "dfy"
   ]
  },
  {
   "cell_type": "code",
   "execution_count": 59,
   "id": "325b9a7f",
   "metadata": {},
   "outputs": [
    {
     "data": {
      "text/plain": [
       "<Axes: ylabel='count'>"
      ]
     },
     "execution_count": 59,
     "metadata": {},
     "output_type": "execute_result"
    },
    {
     "data": {
      "image/png": "[encoded data removed]",
      "text/plain": [
       "<Figure size 640x480 with 1 Axes>"
      ]
     },
     "metadata": {},
     "output_type": "display_data"
    }
   ],
   "source": [
    "sns.countplot(dfy)"
   ]
  },
  {
   "cell_type": "markdown",
   "id": "5dd2fa8d",
   "metadata": {},
   "source": [
    "Here we start Modelling the dataset.\n"
   ]
  },
  {
   "cell_type": "code",
   "execution_count": 60,
   "id": "34d85d05",
   "metadata": {},
   "outputs": [],
   "source": [
    "from sklearn.linear_model import LinearRegression\n",
    "from sklearn.metrics import mean_squared_error,mean_absolute_error\n",
    "from sklearn.model_selection import train_test_split\n",
    "x_train,x_test,y_train,y_test=train_test_split(x,y,test_size=.30,random_state=42)\n"
   ]
  },
  {
   "cell_type": "code",
   "execution_count": 61,
   "id": "8eb69853",
   "metadata": {},
   "outputs": [
    {
     "data": {
      "text/plain": [
       "(916, 6)"
      ]
     },
     "execution_count": 61,
     "metadata": {},
     "output_type": "execute_result"
    }
   ],
   "source": [
    "x_train.shape"
   ]
  },
  {
   "cell_type": "code",
   "execution_count": 62,
   "id": "d6cb2dda",
   "metadata": {},
   "outputs": [
    {
     "data": {
      "text/plain": [
       "(916,)"
      ]
     },
     "execution_count": 62,
     "metadata": {},
     "output_type": "execute_result"
    }
   ],
   "source": [
    "y_train.shape"
   ]
  },
  {
   "cell_type": "code",
   "execution_count": 63,
   "id": "d7a14a9c",
   "metadata": {},
   "outputs": [
    {
     "data": {
      "text/plain": [
       "(393, 6)"
      ]
     },
     "execution_count": 63,
     "metadata": {},
     "output_type": "execute_result"
    }
   ],
   "source": [
    "x_test.shape"
   ]
  },
  {
   "cell_type": "code",
   "execution_count": 64,
   "id": "dd9717fc",
   "metadata": {},
   "outputs": [
    {
     "data": {
      "text/plain": [
       "(393,)"
      ]
     },
     "execution_count": 64,
     "metadata": {},
     "output_type": "execute_result"
    }
   ],
   "source": [
    "y_test.shape"
   ]
  },
  {
   "cell_type": "code",
   "execution_count": 65,
   "id": "c468ac46",
   "metadata": {},
   "outputs": [
    {
     "data": {
      "text/html": [
       "<style>#sk-container-id-1 {color: black;background-color: white;}#sk-container-id-1 pre{padding: 0;}#sk-container-id-1 div.sk-toggleable {background-color: white;}#sk-container-id-1 label.sk-toggleable__label {cursor: pointer;display: block;width: 100%;margin-bottom: 0;padding: 0.3em;box-sizing: border-box;text-align: center;}#sk-container-id-1 label.sk-toggleable__label-arrow:before {content: \"▸\";float: left;margin-right: 0.25em;color: #696969;}#sk-container-id-1 label.sk-toggleable__label-arrow:hover:before {color: black;}#sk-container-id-1 div.sk-estimator:hover label.sk-toggleable__label-arrow:before {color: black;}#sk-container-id-1 div.sk-toggleable__content {max-height: 0;max-width: 0;overflow: hidden;text-align: left;background-color: #f0f8ff;}#sk-container-id-1 div.sk-toggleable__content pre {margin: 0.2em;color: black;border-radius: 0.25em;background-color: #f0f8ff;}#sk-container-id-1 input.sk-toggleable__control:checked~div.sk-toggleable__content {max-height: 200px;max-width: 100%;overflow: auto;}#sk-container-id-1 input.sk-toggleable__control:checked~label.sk-toggleable__label-arrow:before {content: \"▾\";}#sk-container-id-1 div.sk-estimator input.sk-toggleable__control:checked~label.sk-toggleable__label {background-color: #d4ebff;}#sk-container-id-1 div.sk-label input.sk-toggleable__control:checked~label.sk-toggleable__label {background-color: #d4ebff;}#sk-container-id-1 input.sk-hidden--visually {border: 0;clip: rect(1px 1px 1px 1px);clip: rect(1px, 1px, 1px, 1px);height: 1px;margin: -1px;overflow: hidden;padding: 0;position: absolute;width: 1px;}#sk-container-id-1 div.sk-estimator {font-family: monospace;background-color: #f0f8ff;border: 1px dotted black;border-radius: 0.25em;box-sizing: border-box;margin-bottom: 0.5em;}#sk-container-id-1 div.sk-estimator:hover {background-color: #d4ebff;}#sk-container-id-1 div.sk-parallel-item::after {content: \"\";width: 100%;border-bottom: 1px solid gray;flex-grow: 1;}#sk-container-id-1 div.sk-label:hover label.sk-toggleable__label {background-color: #d4ebff;}#sk-container-id-1 div.sk-serial::before {content: \"\";position: absolute;border-left: 1px solid gray;box-sizing: border-box;top: 0;bottom: 0;left: 50%;z-index: 0;}#sk-container-id-1 div.sk-serial {display: flex;flex-direction: column;align-items: center;background-color: white;padding-right: 0.2em;padding-left: 0.2em;position: relative;}#sk-container-id-1 div.sk-item {position: relative;z-index: 1;}#sk-container-id-1 div.sk-parallel {display: flex;align-items: stretch;justify-content: center;background-color: white;position: relative;}#sk-container-id-1 div.sk-item::before, #sk-container-id-1 div.sk-parallel-item::before {content: \"\";position: absolute;border-left: 1px solid gray;box-sizing: border-box;top: 0;bottom: 0;left: 50%;z-index: -1;}#sk-container-id-1 div.sk-parallel-item {display: flex;flex-direction: column;z-index: 1;position: relative;background-color: white;}#sk-container-id-1 div.sk-parallel-item:first-child::after {align-self: flex-end;width: 50%;}#sk-container-id-1 div.sk-parallel-item:last-child::after {align-self: flex-start;width: 50%;}#sk-container-id-1 div.sk-parallel-item:only-child::after {width: 0;}#sk-container-id-1 div.sk-dashed-wrapped {border: 1px dashed gray;margin: 0 0.4em 0.5em 0.4em;box-sizing: border-box;padding-bottom: 0.4em;background-color: white;}#sk-container-id-1 div.sk-label label {font-family: monospace;font-weight: bold;display: inline-block;line-height: 1.2em;}#sk-container-id-1 div.sk-label-container {text-align: center;}#sk-container-id-1 div.sk-container {/* jupyter's `normalize.less` sets `[hidden] { display: none; }` but bootstrap.min.css set `[hidden] { display: none !important; }` so we also need the `!important` here to be able to override the default hidden behavior on the sphinx rendered scikit-learn.org. See: https://github.com/scikit-learn/scikit-learn/issues/21755 */display: inline-block !important;position: relative;}#sk-container-id-1 div.sk-text-repr-fallback {display: none;}</style><div id=\"sk-container-id-1\" class=\"sk-top-container\"><div class=\"sk-text-repr-fallback\"><pre>LinearRegression()</pre><b>In a Jupyter environment, please rerun this cell to show the HTML representation or trust the notebook. <br />On GitHub, the HTML representation is unable to render, please try loading this page with nbviewer.org.</b></div><div class=\"sk-container\" hidden><div class=\"sk-item\"><div class=\"sk-estimator sk-toggleable\"><input class=\"sk-toggleable__control sk-hidden--visually\" id=\"sk-estimator-id-1\" type=\"checkbox\" checked><label for=\"sk-estimator-id-1\" class=\"sk-toggleable__label sk-toggleable__label-arrow\">LinearRegression</label><div class=\"sk-toggleable__content\"><pre>LinearRegression()</pre></div></div></div></div></div>"
      ],
      "text/plain": [
       "LinearRegression()"
      ]
     },
     "execution_count": 65,
     "metadata": {},
     "output_type": "execute_result"
    }
   ],
   "source": [
    "lm=LinearRegression()\n",
    "lm.fit(x_train,y_train)"
   ]
  },
  {
   "cell_type": "code",
   "execution_count": 66,
   "id": "306185fe",
   "metadata": {},
   "outputs": [
    {
     "data": {
      "text/plain": [
       "array([ 3.55772212e+03, -7.41980178e+00,  1.86345480e+03,  5.76191226e+02,\n",
       "        9.23840444e+03, -4.16503242e+02])"
      ]
     },
     "execution_count": 66,
     "metadata": {},
     "output_type": "execute_result"
    }
   ],
   "source": [
    "lm.coef_"
   ]
  },
  {
   "cell_type": "code",
   "execution_count": 67,
   "id": "f6b93600",
   "metadata": {},
   "outputs": [
    {
     "data": {
      "text/plain": [
       "13093.800084057451"
      ]
     },
     "execution_count": 67,
     "metadata": {},
     "output_type": "execute_result"
    }
   ],
   "source": [
    "lm.intercept_"
   ]
  },
  {
   "cell_type": "code",
   "execution_count": 68,
   "id": "38827d6e",
   "metadata": {},
   "outputs": [
    {
     "data": {
      "text/plain": [
       "Index(['age', 'sex', 'bmi', 'children', 'smoker', 'region', 'charges'], dtype='object')"
      ]
     },
     "execution_count": 68,
     "metadata": {},
     "output_type": "execute_result"
    }
   ],
   "source": [
    "df.columns"
   ]
  },
  {
   "cell_type": "code",
   "execution_count": 69,
   "id": "0b1363c4",
   "metadata": {},
   "outputs": [
    {
     "data": {
      "text/plain": [
       "0.7435304306080746"
      ]
     },
     "execution_count": 69,
     "metadata": {},
     "output_type": "execute_result"
    }
   ],
   "source": [
    "lm.score(x_train,y_train)"
   ]
  },
  {
   "cell_type": "code",
   "execution_count": 71,
   "id": "cc665038",
   "metadata": {},
   "outputs": [
    {
     "name": "stdout",
     "output_type": "stream",
     "text": [
      "pridected result price: [15487.5695208  12371.84991347 27127.92883592   707.0808386\n",
      "  9203.87459834 11635.01387107  9953.42295857 33918.80426251\n",
      " 15788.09907595  7454.1679818   6586.27134522  7866.07123503\n",
      "  2428.87828595 14685.53566486 11475.78946046 11788.29451052\n",
      " 31269.37993266  5906.94344876 11816.51230817  9833.89046454\n",
      "  9183.75301951 31076.85400358  8681.52501942 28035.87016216\n",
      "  4957.95796789 11552.70508632  4459.83040819 31165.18408849\n",
      "  4298.42683457  9580.74923348 17124.59890726  5891.3677101\n",
      " 28027.95245001  1702.56406066  6442.3291148   6553.60627854\n",
      "  5705.34799872 10759.17949832  9283.8032606   7009.98723552\n",
      " 33083.91852271 13263.02913393  1940.51286414  9124.64769269\n",
      "  2460.02976329 35987.4709074  27528.40105357  8299.94898415\n",
      "  -870.49345561 16793.38026322  6652.59175529 16027.91123422\n",
      "  1149.95097771 12331.29787571  8645.80418243 12856.77206764\n",
      "  6304.73228104  5462.76270248  9071.49125774 11039.93804968\n",
      " 14446.68898062 12513.11554024 35392.64660754  5571.22668021\n",
      " 27495.23408067 31069.92250866 13404.77583331 30057.94483356\n",
      "  7521.85569444 28067.02671162  5568.51336336 11438.76456122\n",
      "  4400.45837721  9797.14104616 32652.28633641 10609.95684468\n",
      " 11026.68037252 10197.11306718  9097.25314178 12250.52522351\n",
      " 14588.31813126 31669.17447115 28312.83852684  8358.88036028\n",
      " 31227.03062684 12025.46796372  8057.91075683 13409.59289179\n",
      " 36581.50913993 31400.48004462 13375.64147074 15101.26387762\n",
      "  6484.58188629 26567.97414123 32107.81799752 34405.40214468\n",
      " 10844.78737703 10216.26641599  6883.4942151  35005.1294107\n",
      "  -295.5623628  33263.25944002  9897.52403629  5824.03622346\n",
      " 14381.19679901  7670.04513441 15204.72550847 10037.84812615\n",
      "  8774.70591696 29332.34755356 11885.34918629  7180.63670958\n",
      " 11720.63892739  2950.47513408 24304.64578106  5306.27191207\n",
      "  9916.03192586 26375.30699751 11055.2610875  11673.89363377\n",
      "  6895.58635876  9940.34987286  5881.61909383 39494.37374858\n",
      " 26615.50307341  6616.00495795  4718.97664769 10770.30475182\n",
      " 12738.44775063  5310.58544514 25050.29348104  3403.60197086\n",
      " 10954.12011364 12692.77689805  7196.60770359  6089.08430979\n",
      "  2375.05164505  5061.50684627 33814.65390824 32426.63234566\n",
      "  6149.86920953 13502.56016641  1228.56469396 14252.47599995\n",
      " 10755.69217103 15100.67078854 28372.1225007   3504.18786686\n",
      "  8638.92532889 33572.4133053   4252.31292061  7101.63451971\n",
      " 31044.8717786   4541.85612076 10485.35093534  1774.59523783\n",
      " 24643.4814273   9817.48478782  5681.56128288  7171.85125119\n",
      " 13402.0430227  31083.20699156 33156.52052511 33027.76394055\n",
      " 10520.0503848  28197.48439967 12959.21978964   583.802511\n",
      "  6296.22693579  4797.10572574  4679.10826122 27810.74174353\n",
      " 11116.45610407 12849.91182196  7268.19234419 14534.31904621\n",
      " 25486.1703577   7217.52129418  1629.2701187  11015.57514304\n",
      "  5027.83463836 10958.72952132  5808.50840348 26519.68793638\n",
      "  1485.78430461 13273.78915396 14995.97669413  2160.11501671\n",
      " 32665.68969379  3655.40599206  3327.94508404 22731.49560614\n",
      "  6516.72340354  5519.08014248  2508.03460555  9536.45814387\n",
      " 34900.32159023  9074.41292234 11540.50226604  8098.62991497\n",
      "  7987.81282353  1204.15273183 15066.02520219 10791.86852434\n",
      " 32899.66482219  9897.45215826  7511.87789682  7963.08021784\n",
      " 11257.74317099 17087.7181817   6972.02030546 14781.18481831\n",
      "  7859.34979745 14625.81752444 -1120.94683571  7886.73310106\n",
      "  1625.32869123 32296.42645847 26637.17946894  3715.57973921\n",
      "  3881.74960623  6828.70117189 12440.32894638  4297.41596105\n",
      " 11342.78566635 17048.03223724 12380.88941255 10679.32706704\n",
      "  2471.26800955  5725.3530192   8195.55137091  5797.56744798\n",
      " 31696.08125813 36025.11658736 11694.28964705  2109.5829556\n",
      "  3297.11709665 35966.84571276  7127.1861096   4956.97175067\n",
      " 11403.01923463  7728.86449408 33832.04357646 12706.12851406\n",
      "  2441.42684593 12220.31427045 36581.00633371  6876.59586779\n",
      "  8506.08154623  9982.33170537 38557.13235553 30289.93187868\n",
      "  3224.0518058  15139.93841831 10944.23268928  4261.44672829\n",
      "  9921.2405837   4239.09878696 29684.69269193 14675.45767692\n",
      " 12871.57013988  6450.99972443  5736.61522481 10213.08121479\n",
      "  4086.25060447  3498.86943241  9642.05041249  8335.89953275\n",
      "  1983.98737609  6206.07000079  8104.48189671  4930.98263167\n",
      " 12512.53659344  7377.13579759  5719.36750454 10632.64411373\n",
      "  4675.64274383  5320.14351193  6657.91108974 13083.24362645\n",
      " 11484.64214235 17743.75761255 14382.18139705 26550.88571321\n",
      "  8793.51778861 12484.02808371 32633.86748026 36374.11418282\n",
      "  6794.40676712  9846.23725546  8236.36252149 26484.93053661\n",
      " 11344.59281417 33991.37857328 12790.66426786 13996.65877177\n",
      " 30542.03846582  9928.56127143  6541.31459155 16823.91327598\n",
      " 15076.58141635 11298.16682425 32754.32475118 15275.6473314\n",
      "  4217.33576455   392.25743357 11787.62893686 15691.71026731\n",
      "  9883.90173222 11653.40904722 38094.91883428  3075.90956533\n",
      "  9121.62202055 10214.36273384  7996.82551688 32788.53081949\n",
      " 14009.07208925 26619.75081321 10290.66151433 12125.37029885\n",
      " 37839.95327777  9147.33244256  8391.79641822 10279.62654368\n",
      "  6131.36477291 10335.99178974  9143.82115592  4258.98724909\n",
      "  2367.35299771  2843.80871786   722.4293423   5380.57360181\n",
      "  4039.8505203  34823.05880852 28049.01038097 35190.61647478\n",
      " 13774.26024107 15631.68956095  7116.01115152 31146.51484762\n",
      "  7032.58706811 11692.88664393 36538.27006081 10655.25718861\n",
      " 13328.17833182 35216.49572676 31260.15958851  6483.68310553\n",
      "  4208.31941521  9277.60261646  2663.73187764 12620.53558724\n",
      " 14241.17062058 11157.71164178  8915.39259694 12146.97634513\n",
      "  9765.71408797 16178.46503519  5166.38382254 35754.83972878\n",
      "  1398.27364375 11505.1493484   5262.36868954  7935.55204361\n",
      "  9553.08732328 37612.11297254  8747.65649921   300.29202501\n",
      "  5696.19701342  6609.90430108 13398.39506331 12247.21853823\n",
      " 28748.21037154 31554.81734095 11938.73346275 14510.96023136\n",
      "  9241.955861   10659.02251595  8957.85371618 39297.87405402\n",
      "  6254.20021992  4088.09132565 12300.46713234  9845.77194432\n",
      "   838.86520839  8387.96326083 38105.6334407   6676.12553347\n",
      " 39285.23199504 11372.94888966  9869.35100936 10193.51282342\n",
      " 10143.94594288]\n",
      "actual price 1172    11093.62290\n",
      "1069    10928.84900\n",
      "1001    34472.84100\n",
      "821      2680.94930\n",
      "1219     7537.16390\n",
      "           ...     \n",
      "330     48517.56315\n",
      "935     12233.82800\n",
      "540      6196.44800\n",
      "1183     9447.38240\n",
      "521      3994.17780\n",
      "Name: charges, Length: 393, dtype: float64\n",
      "MeanAbsoluteError 4120.363141362776\n",
      "mean squared error 32999394.112720985\n",
      "Root mean squared error 5744.509910577314\n",
      "0.7727882748154014\n"
     ]
    }
   ],
   "source": [
    "pred=lm.predict(x_test)\n",
    "print('pridected result price:',pred)\n",
    "print('actual price',y_test)\n",
    "print('MeanAbsoluteError',mean_absolute_error(y_test,pred))\n",
    "print('mean squared error',mean_squared_error(y_test,pred))\n",
    "print('Root mean squared error',np.sqrt(mean_squared_error(y_test,pred)))\n",
    "from sklearn.metrics import r2_score\n",
    "print(r2_score(y_test,pred))"
   ]
  },
  {
   "cell_type": "code",
   "execution_count": 82,
   "id": "b75b4e28",
   "metadata": {},
   "outputs": [],
   "source": [
    "t=np.array([19,0.0,27.900,1.0,3.0,16884.92400])\n"
   ]
  },
  {
   "cell_type": "code",
   "execution_count": null,
   "id": "1202587c",
   "metadata": {},
   "outputs": [],
   "source": []
  },
  {
   "cell_type": "code",
   "execution_count": 84,
   "id": "2430cfc7",
   "metadata": {},
   "outputs": [
    {
     "data": {
      "text/plain": [
       "(6,)"
      ]
     },
     "execution_count": 84,
     "metadata": {},
     "output_type": "execute_result"
    }
   ],
   "source": [
    "t.shape"
   ]
  },
  {
   "cell_type": "code",
   "execution_count": 85,
   "id": "a60384e2",
   "metadata": {},
   "outputs": [],
   "source": [
    "t=t.reshape(1,-1)"
   ]
  },
  {
   "cell_type": "code",
   "execution_count": 86,
   "id": "4928586d",
   "metadata": {},
   "outputs": [
    {
     "data": {
      "text/plain": [
       "(1, 6)"
      ]
     },
     "execution_count": 86,
     "metadata": {},
     "output_type": "execute_result"
    }
   ],
   "source": [
    "t.shape"
   ]
  },
  {
   "cell_type": "code",
   "execution_count": 87,
   "id": "ceaabaf0",
   "metadata": {},
   "outputs": [
    {
     "data": {
      "text/plain": [
       "array([-6871653.27407576])"
      ]
     },
     "execution_count": 87,
     "metadata": {},
     "output_type": "execute_result"
    }
   ],
   "source": [
    "lm.predict(t)"
   ]
  },
  {
   "cell_type": "code",
   "execution_count": 88,
   "id": "57046211",
   "metadata": {},
   "outputs": [],
   "source": [
    "df=pd.DataFrame(pred)\n"
   ]
  },
  {
   "cell_type": "markdown",
   "id": "95882eaf",
   "metadata": {},
   "source": [
    "Cross validation method."
   ]
  },
  {
   "cell_type": "code",
   "execution_count": 90,
   "id": "a5a07ff8",
   "metadata": {},
   "outputs": [
    {
     "name": "stdout",
     "output_type": "stream",
     "text": [
      "[0.76337332 0.71273583 0.78072916 0.73045788 0.76622267]\n"
     ]
    }
   ],
   "source": [
    "from sklearn.model_selection import cross_val_score\n",
    "score=cross_val_score(lm,x,y)\n",
    "print(score)"
   ]
  },
  {
   "cell_type": "code",
   "execution_count": 91,
   "id": "93d67640",
   "metadata": {},
   "outputs": [
    {
     "name": "stdout",
     "output_type": "stream",
     "text": [
      "0.7507037701961409\n"
     ]
    }
   ],
   "source": [
    "print(score.mean())"
   ]
  },
  {
   "cell_type": "code",
   "execution_count": 93,
   "id": "1e057e7f",
   "metadata": {},
   "outputs": [
    {
     "name": "stdout",
     "output_type": "stream",
     "text": [
      "-0.017927132823800207\n"
     ]
    },
    {
     "data": {
      "text/plain": [
       "array([ 9598.48157166,  9454.35871012,  9499.32330511,  8381.75197168,\n",
       "        9030.96726988,  9440.48981317,  9049.84319392, 10666.30486052,\n",
       "        9482.30629969,  8972.88734237,  8885.92958652,  8892.67239231,\n",
       "        8364.63107197,  9780.09966254,  9553.56278893,  9449.64843654,\n",
       "       10246.01079862,  8727.09552103,  9288.52246659,  9074.13368088,\n",
       "        9013.94394904,  9966.32179784,  9183.48244255,  9967.45602785,\n",
       "        8776.04312481,  9207.37794809,  8461.51053857, 10178.35825088,\n",
       "        8423.82927196,  9155.59525966,  9601.34252995,  8702.77368746,\n",
       "        9582.08071168,  8183.33737448,  9063.45403797,  8789.70927622,\n",
       "        8739.12962608,  9134.92747814,  9058.41356675,  8722.56169335,\n",
       "       10418.31346383,  9660.9600633 ,  8254.99767209,  9461.09105185,\n",
       "        8413.27473912, 10840.29447838,  9437.54483438,  8983.29653856,\n",
       "        8079.23601106,  9554.55453028,  8488.01918317,  9749.03534092,\n",
       "        8179.37738936,  9302.87012983,  8991.58365455,  9535.63794422,\n",
       "        8887.25968954,  8476.76987201,  9367.12605725,  9410.95654243,\n",
       "        9581.12862899,  9590.90862946, 10406.38805074,  8540.93587142,\n",
       "        9595.29634411, 10024.9802484 ,  9448.57334303,  9976.79745648,\n",
       "        9033.86853784,  9866.07125285,  8694.50702107,  9536.29461207,\n",
       "        8605.29622194,  8890.46766173, 10097.15636211,  9375.27525009,\n",
       "        9394.82749929,  9324.82118475,  9066.90519449,  9454.45990121,\n",
       "        9526.6938844 ,  9785.18270346,  9755.02450583,  9029.2198964 ,\n",
       "       10220.36136464,  9367.32851982,  8974.21897426,  9686.64098675,\n",
       "       10623.34290852, 10179.44744198,  9717.00561218,  9382.21147501,\n",
       "        8779.39838831,  9451.21706603, 10030.11248011, 10347.52810437,\n",
       "        9066.36261119,  9305.38987847,  8717.56375842, 10551.01853674,\n",
       "        8115.50620296, 10472.29225106,  9571.66547212,  8438.25039232,\n",
       "        9555.00970233,  9039.20365792,  9679.70270608,  8693.19002755,\n",
       "        9202.77234913,  9701.1324321 ,  9607.640352  ,  8760.65606328,\n",
       "        9517.76852926,  8228.26470144,  9278.87401793,  8725.12577617,\n",
       "        9000.97489014,  9432.81457877,  9403.60210072,  9318.53482836,\n",
       "        8591.44808517,  9204.51745019,  8694.59684757, 10831.4458054 ,\n",
       "        9516.10209463,  8934.96613758,  8307.86954445,  9040.20347594,\n",
       "        9705.53142702,  8693.69412672,  9400.68291538,  8233.11210587,\n",
       "        9451.20341356,  9363.12279228,  8623.21395676,  8702.06601568,\n",
       "        8404.93860129,  8672.89701503, 10289.3962722 , 10196.45189082,\n",
       "        8540.91991369,  9447.18072148,  8332.88343052,  9565.50307059,\n",
       "        9202.36471162,  9632.07458428,  9750.14060672,  8676.18230494,\n",
       "        9007.43167169, 10324.55706077,  8671.16567947,  8861.04569379,\n",
       "        9837.81173036,  8507.15295778,  9180.70058148,  8281.25841009,\n",
       "        9484.72136873,  9231.68100357,  8710.8719709 ,  8938.96229266,\n",
       "        9575.02597123,  9966.47028611, 10384.87121189, 10317.1420554 ,\n",
       "        9458.52947165,  9672.57005498,  9368.99483424,  8163.10032552,\n",
       "        8661.71795345,  8579.8800492 ,  8385.82676358,  9709.4451987 ,\n",
       "        9345.26070326,  9483.86490308,  8799.13691914,  9679.61125619,\n",
       "        9400.80385831,  9019.6353708 ,  8275.66271362,  9322.7807645 ,\n",
       "        8318.98905787,  9260.9170604 ,  8889.87918796,  9358.62002327,\n",
       "        8508.47138563,  9515.0605513 ,  9767.51509313,  8469.29130115,\n",
       "       10062.85568488,  8396.2100931 ,  8265.61545983,  9257.46457954,\n",
       "        8772.89014243,  8673.35514311,  8560.56250973,  8853.29627783,\n",
       "       10345.22534149,  8999.71272969,  9302.26638913,  8809.35741845,\n",
       "        9087.50763731,  8323.53151714,  9558.73641903,  9469.12310304,\n",
       "       10078.29750583,  8857.73952829,  9144.56905627,  8737.29955644,\n",
       "        9215.89020689,  9914.1052509 ,  8955.08511926,  9699.15737621,\n",
       "        8979.6488387 ,  9725.51448198,  8149.61174376,  9070.84617133,\n",
       "        8169.09066497, 10441.20474684,  9683.21001678,  8244.34393761,\n",
       "        8356.75653877,  8784.12197417,  9453.547582  ,  8384.01636539,\n",
       "        9302.97406091,  9833.28391468,  9375.57505417,  9128.33218688,\n",
       "        8231.05290754,  8613.21860026,  8598.99710839,  8814.09663712,\n",
       "       10154.8625294 , 10627.80012028,  9442.6238612 ,  8265.91736141,\n",
       "        8245.21364014, 10835.08280384,  9067.70594611,  8332.00935807,\n",
       "        9300.30976791,  8986.0534854 , 10413.29683837,  9352.0571656 ,\n",
       "        8293.79961927,  9536.48524946, 10896.89011141,  8706.29325412,\n",
       "        9164.87112637,  9130.72045911, 10848.94580918,  9763.11021357,\n",
       "        8412.55087942,  9617.10916312,  9304.27708615,  8739.5012293 ,\n",
       "        9128.1573572 ,  8638.81953293,  9860.04552159,  9631.97386075,\n",
       "        9524.70462506,  8984.37363567,  8668.97208328,  9499.99339827,\n",
       "        8446.96981551,  8498.19722279,  9186.47635738,  8862.42870981,\n",
       "        8300.80848141,  8875.88177761,  9043.90234389,  8458.06864197,\n",
       "        9562.29388729,  9176.13783657,  8712.51653706,  9582.1960788 ,\n",
       "        8361.65745692,  8586.35652963,  8646.42888245,  9391.94426567,\n",
       "        9141.38995571,  9841.58860461,  9475.57235588,  9359.74320645,\n",
       "        8747.52005576,  9450.93517932, 10342.37380011, 10806.32857104,\n",
       "        8759.12623069,  8686.65534574,  8699.97981994,  9808.82911958,\n",
       "        9310.42106192, 10612.76203428,  9307.9421709 ,  9600.15378486,\n",
       "       10140.79616813,  9358.64973104,  8761.76394492,  9714.23567081,\n",
       "        9670.53990123,  9384.19723038, 10089.4441042 ,  9721.14468864,\n",
       "        8397.14875372,  8136.16368118,  9346.47083729,  9768.80183591,\n",
       "        9143.47568388,  9412.92187562, 10875.66296494,  8340.1198925 ,\n",
       "        8985.4771474 ,  8988.23779381,  9083.36298679,  9797.71681688,\n",
       "        9621.00502066,  9505.07240772,  9276.56153953,  9299.64198001,\n",
       "       10803.83395966,  9164.11615024,  8914.95630825,  9394.96963537,\n",
       "        8438.11094032,  9163.57380431,  8993.57806911,  8369.97416046,\n",
       "        8302.5988904 ,  8379.56940818,  8231.91222639,  8529.60284858,\n",
       "        8465.6823614 , 10766.50287272,  9860.2261072 , 10438.52737196,\n",
       "        9695.30062441,  9499.62868803,  8611.31512224, 10273.17435201,\n",
       "        8593.1841084 ,  9707.58538974, 10744.67573091,  9193.91602528,\n",
       "        9631.71862104, 10542.97641245,  9821.80145227,  8671.66303523,\n",
       "        8452.17216767,  9279.42194988,  8313.26913055,  9403.87973771,\n",
       "        9700.28056656,  9038.65963331,  9310.7075263 ,  9557.60601099,\n",
       "        9008.22183686,  9715.04276746,  8466.09963186, 10684.88370632,\n",
       "        8240.30878505,  9217.13192491,  8529.816358  ,  8958.26750077,\n",
       "        9087.7852743 , 10485.92963884,  9193.52871542,  8160.71924357,\n",
       "        8524.95049322,  8792.18004901,  9709.63521991,  9402.26934508,\n",
       "        9866.10677378, 10260.47278379,  9514.88169015,  9539.11665325,\n",
       "        8778.79231273,  9463.97667984,  8812.80969873, 10776.84926742,\n",
       "        8683.8857498 ,  8586.22450527,  9313.77169071,  9280.58524712,\n",
       "        8183.74917913,  9239.64749285, 10872.02351665,  9019.79967396,\n",
       "       10962.29707095,  9481.93383795,  8880.48890543,  9312.76027074,\n",
       "        8835.83448623])"
      ]
     },
     "execution_count": 93,
     "metadata": {},
     "output_type": "execute_result"
    }
   ],
   "source": [
    "from sklearn.svm import SVR\n",
    "svr=SVR(kernel='linear')\n",
    "svr.fit(x_train,y_train)\n",
    "print(svr.score(x_train,y_train))\n",
    "pred_y=svr.predict(x_test)\n",
    "pred_y"
   ]
  },
  {
   "cell_type": "code",
   "execution_count": 96,
   "id": "47d93329",
   "metadata": {},
   "outputs": [
    {
     "name": "stdout",
     "output_type": "stream",
     "text": [
      "score of i = -0.08938200899024085\n",
      "MSE: rbf 5744.509910577314\n"
     ]
    }
   ],
   "source": [
    "from sklearn.svm import SVR\n",
    "kernellist=['linear','poly','rbf']\n",
    "for i in kernellist:\n",
    "    sv=SVR(kernel=i)\n",
    "    sv.fit(x_train,y_train)\n",
    "print('score of','i','=',sv.score(x_train,y_train))\n",
    "pred_y=sv.predict(x_test)\n",
    "print('MSE:',i,np.sqrt(mean_squared_error(y_test,pred)))"
   ]
  },
  {
   "cell_type": "markdown",
   "id": "af948abd",
   "metadata": {},
   "source": [
    "Hyper parameter Tuning."
   ]
  },
  {
   "cell_type": "code",
   "execution_count": 107,
   "id": "78951d74",
   "metadata": {},
   "outputs": [
    {
     "name": "stdout",
     "output_type": "stream",
     "text": [
      "75.07037701961409\n"
     ]
    }
   ],
   "source": [
    "from sklearn.model_selection import GridSearchCV\n",
    "parameter={'kernel':['rbf','poly','linear']}\n",
    "model=SVR\n",
    "finalmodel=SVR(kernel='poly')\n",
    "finalmodel.fit(x_train,y_train)\n",
    "pred=finalmodel.predict(x_test)\n",
    "acc=score.mean()\n",
    "print(acc*100)\n",
    "                       "
   ]
  },
  {
   "cell_type": "markdown",
   "id": "8bc938fe",
   "metadata": {},
   "source": [
    "Saving the Model"
   ]
  },
  {
   "cell_type": "code",
   "execution_count": 114,
   "id": "c37adfdd",
   "metadata": {},
   "outputs": [],
   "source": [
    "import joblib\n",
    "model=joblib.dump(finalmodel,'Medical cost.pkl')"
   ]
  },
  {
   "cell_type": "code",
   "execution_count": 115,
   "id": "95cc3e81",
   "metadata": {},
   "outputs": [
    {
     "data": {
      "text/plain": [
       "array([9356.42949043, 9340.27956278, 9362.37149561, 9286.42318267,\n",
       "       9309.90089982, 9343.80458657, 9314.12639226, 9387.24394361,\n",
       "       9345.73621732, 9281.95525747, 9283.90747832, 9268.17683856,\n",
       "       9270.24564689, 9370.17824879, 9356.32502896, 9349.20084778,\n",
       "       9382.11025111, 9255.25683949, 9326.97541499, 9293.93384443,\n",
       "       9326.57845652, 9379.685413  , 9326.78149584, 9371.65027582,\n",
       "       9293.06909291, 9318.71074474, 9270.06401305, 9370.77558306,\n",
       "       9247.62351873, 9304.58227529, 9351.5935486 , 9252.53915174,\n",
       "       9358.32902626, 9259.4100614 , 9317.63265373, 9270.3245108 ,\n",
       "       9255.97667822, 9301.03299543, 9297.28748403, 9268.90693161,\n",
       "       9390.58722689, 9366.45258498, 9255.37009037, 9349.65714206,\n",
       "       9273.85344014, 9387.80882194, 9354.21438676, 9286.89582099,\n",
       "       9282.2586247 , 9345.73103113, 9299.89608307, 9366.54874152,\n",
       "       9246.2644987 , 9334.28652503, 9312.79672237, 9356.65616768,\n",
       "       9289.14607079, 9265.2932639 , 9339.13151615, 9345.33680897,\n",
       "       9356.93424843, 9359.41966533, 9390.43038721, 9254.52846905,\n",
       "       9358.94008929, 9374.87450557, 9347.61586595, 9376.39117844,\n",
       "       9322.67963155, 9372.02615334, 9266.17223725, 9354.82740607,\n",
       "       9255.09324172, 9316.86742876, 9371.88325456, 9339.00802089,\n",
       "       9339.24219636, 9324.44937923, 9293.83770904, 9337.73333348,\n",
       "       9351.73458873, 9356.98218897, 9363.12205442, 9285.10572413,\n",
       "       9381.3617885 , 9335.6800367 , 9289.39226671, 9365.06450729,\n",
       "       9394.89412684, 9381.48572687, 9369.33713461, 9338.03815559,\n",
       "       9285.23976643, 9357.41649383, 9368.24387982, 9389.01604374,\n",
       "       9309.09482866, 9332.30457555, 9324.474845  , 9399.13819178,\n",
       "       9277.28480819, 9389.505156  , 9357.48148966, 9295.75719816,\n",
       "       9355.02374011, 9322.49299147, 9362.70051746, 9316.76718759,\n",
       "       9321.79536885, 9362.70280958, 9355.19183003, 9259.3312649 ,\n",
       "       9346.02405171, 9263.14877393, 9356.39816314, 9265.89274456,\n",
       "       9312.36541632, 9362.36878199, 9336.23121383, 9331.56382295,\n",
       "       9295.45167444, 9325.55751   , 9270.84504702, 9387.29740506,\n",
       "       9357.05254425, 9292.56157734, 9267.57247492, 9315.69044362,\n",
       "       9371.12913541, 9278.83970714, 9362.59293348, 9269.28651307,\n",
       "       9348.70760311, 9339.93054101, 9272.68389631, 9271.10437431,\n",
       "       9297.46547508, 9255.34851705, 9376.02920657, 9379.79318559,\n",
       "       9273.53165231, 9340.61014525, 9281.30368948, 9346.70402067,\n",
       "       9307.48194628, 9360.80540749, 9373.28887017, 9296.88102207,\n",
       "       9295.54352893, 9374.67048474, 9283.52915604, 9274.3229869 ,\n",
       "       9369.16259135, 9238.38922608, 9316.43512966, 9270.95164312,\n",
       "       9360.03483078, 9322.86634788, 9272.11032967, 9278.3880393 ,\n",
       "       9351.55040878, 9376.79865106, 9388.18196448, 9390.88681774,\n",
       "       9344.77879264, 9370.45179094, 9328.55828095, 9252.70701561,\n",
       "       9266.20326878, 9266.11661676, 9279.1111917 , 9366.12831988,\n",
       "       9333.474647  , 9341.48155539, 9299.30561763, 9362.06408979,\n",
       "       9361.81347773, 9307.82280863, 9250.31840512, 9322.57488619,\n",
       "       9272.48810379, 9314.80052974, 9286.98173128, 9358.82101752,\n",
       "       9303.14036021, 9344.06837898, 9368.39946005, 9269.78260567,\n",
       "       9382.43694227, 9259.55870034, 9263.61702933, 9351.02075816,\n",
       "       9283.61620307, 9281.29855272, 9290.97648564, 9285.73340002,\n",
       "       9379.07238141, 9292.03595814, 9324.00700346, 9278.49186876,\n",
       "       9312.80180363, 9274.05214871, 9351.78004058, 9351.04725023,\n",
       "       9363.23995185, 9313.82389388, 9319.75020438, 9283.16301965,\n",
       "       9332.89867715, 9370.86472007, 9315.26183276, 9363.88719077,\n",
       "       9292.37999839, 9368.32831025, 9286.17285229, 9302.16132626,\n",
       "       9262.44765599, 9383.32545483, 9359.72388998, 9272.18486896,\n",
       "       9244.87110673, 9284.35135206, 9345.36980466, 9245.11966265,\n",
       "       9318.31771373, 9368.79025012, 9332.30574573, 9300.96096124,\n",
       "       9239.41272527, 9248.25766577, 9297.50158119, 9276.010902  ,\n",
       "       9384.85442284, 9389.00276499, 9343.95248201, 9247.85121607,\n",
       "       9251.47434762, 9391.88383201, 9317.07386776, 9259.55476798,\n",
       "       9325.20672968, 9291.49499099, 9384.13786456, 9325.2695341 ,\n",
       "       9268.18673145, 9357.71400459, 9387.33682072, 9264.9912731 ,\n",
       "       9321.5851141 , 9297.13831419, 9379.50225912, 9367.70665974,\n",
       "       9247.50031481, 9355.61755838, 9327.33190426, 9296.01354179,\n",
       "       9307.98910198, 9258.53941021, 9371.78940118, 9354.90871388,\n",
       "       9351.18940108, 9314.49224759, 9246.69793708, 9351.82767782,\n",
       "       9291.96145242, 9271.95118434, 9315.06117192, 9292.2402196 ,\n",
       "       9265.80749371, 9300.79151261, 9310.86546091, 9250.57262325,\n",
       "       9351.45872399, 9325.55085473, 9272.73045273, 9359.81813179,\n",
       "       9271.51070305, 9313.06400358, 9261.72115196, 9344.00451927,\n",
       "       9305.44158466, 9357.89382806, 9344.16117576, 9358.82781856,\n",
       "       9301.29896513, 9348.23128972, 9378.67829263, 9399.63373845,\n",
       "       9282.48764146, 9308.32798698, 9272.72599315, 9361.86829293,\n",
       "       9327.64121245, 9373.49550262, 9331.79100456, 9358.78534452,\n",
       "       9381.93797122, 9339.84183417, 9282.01805953, 9359.45890997,\n",
       "       9362.8563261 , 9340.57167614, 9376.28234912, 9356.75570456,\n",
       "       9248.18912475, 9265.8340671 , 9333.18568808, 9365.6785325 ,\n",
       "       9316.65993904, 9341.39503028, 9387.32973032, 9262.17684266,\n",
       "       9304.12039264, 9322.61127609, 9305.04874211, 9360.96622497,\n",
       "       9359.9382485 , 9362.22773978, 9319.8375142 , 9328.58108538,\n",
       "       9393.0737545 , 9305.75075931, 9283.76185774, 9338.0148759 ,\n",
       "       9296.10002064, 9311.98018905, 9303.44801462, 9255.37434765,\n",
       "       9268.87659033, 9268.55391941, 9277.74733665, 9267.28672194,\n",
       "       9247.79562287, 9385.262105  , 9361.23857999, 9383.80539772,\n",
       "       9371.40797419, 9350.70799954, 9312.95575782, 9384.878447  ,\n",
       "       9275.54951958, 9366.30925998, 9392.25191818, 9323.55800344,\n",
       "       9365.88993635, 9393.33989063, 9367.65876822, 9290.50484074,\n",
       "       9264.8308243 , 9326.43743499, 9268.5799373 , 9335.42307336,\n",
       "       9363.28921032, 9311.57786713, 9340.20727581, 9359.75904188,\n",
       "       9288.08517901, 9358.20343153, 9262.96401429, 9394.75750973,\n",
       "       9251.90362271, 9318.95402592, 9252.00266176, 9283.53712778,\n",
       "       9294.91584435, 9373.32345453, 9319.57334359, 9272.24325881,\n",
       "       9246.01748302, 9268.99963867, 9364.3212272 , 9341.38998425,\n",
       "       9374.31009958, 9388.61098516, 9351.93510679, 9350.87933162,\n",
       "       9305.55380753, 9343.80963178, 9280.23194127, 9384.9580581 ,\n",
       "       9262.68584315, 9257.80993572, 9336.57278099, 9324.93740622,\n",
       "       9248.56814011, 9323.65112464, 9384.74466631, 9310.96273518,\n",
       "       9388.44150982, 9349.53476643, 9312.69935572, 9332.17578764,\n",
       "       9307.50973888])"
      ]
     },
     "execution_count": 115,
     "metadata": {},
     "output_type": "execute_result"
    }
   ],
   "source": [
    "model=joblib.load('Medical cost.pkl')\n",
    "prediction=model.predict(x_test)\n",
    "prediction"
   ]
  },
  {
   "cell_type": "code",
   "execution_count": 117,
   "id": "99d601e0",
   "metadata": {},
   "outputs": [
    {
     "data": {
      "text/html": [
       "<div>\n",
       "<style scoped>\n",
       "    .dataframe tbody tr th:only-of-type {\n",
       "        vertical-align: middle;\n",
       "    }\n",
       "\n",
       "    .dataframe tbody tr th {\n",
       "        vertical-align: top;\n",
       "    }\n",
       "\n",
       "    .dataframe thead th {\n",
       "        text-align: right;\n",
       "    }\n",
       "</style>\n",
       "<table border=\"1\" class=\"dataframe\">\n",
       "  <thead>\n",
       "    <tr style=\"text-align: right;\">\n",
       "      <th></th>\n",
       "      <th>Prediction</th>\n",
       "      <th>original</th>\n",
       "    </tr>\n",
       "  </thead>\n",
       "  <tbody>\n",
       "    <tr>\n",
       "      <th>0</th>\n",
       "      <td>9356.429490</td>\n",
       "      <td>11093.62290</td>\n",
       "    </tr>\n",
       "    <tr>\n",
       "      <th>1</th>\n",
       "      <td>9340.279563</td>\n",
       "      <td>10928.84900</td>\n",
       "    </tr>\n",
       "    <tr>\n",
       "      <th>2</th>\n",
       "      <td>9362.371496</td>\n",
       "      <td>34472.84100</td>\n",
       "    </tr>\n",
       "    <tr>\n",
       "      <th>3</th>\n",
       "      <td>9286.423183</td>\n",
       "      <td>2680.94930</td>\n",
       "    </tr>\n",
       "    <tr>\n",
       "      <th>4</th>\n",
       "      <td>9309.900900</td>\n",
       "      <td>7537.16390</td>\n",
       "    </tr>\n",
       "    <tr>\n",
       "      <th>...</th>\n",
       "      <td>...</td>\n",
       "      <td>...</td>\n",
       "    </tr>\n",
       "    <tr>\n",
       "      <th>388</th>\n",
       "      <td>9388.441510</td>\n",
       "      <td>48517.56315</td>\n",
       "    </tr>\n",
       "    <tr>\n",
       "      <th>389</th>\n",
       "      <td>9349.534766</td>\n",
       "      <td>12233.82800</td>\n",
       "    </tr>\n",
       "    <tr>\n",
       "      <th>390</th>\n",
       "      <td>9312.699356</td>\n",
       "      <td>6196.44800</td>\n",
       "    </tr>\n",
       "    <tr>\n",
       "      <th>391</th>\n",
       "      <td>9332.175788</td>\n",
       "      <td>9447.38240</td>\n",
       "    </tr>\n",
       "    <tr>\n",
       "      <th>392</th>\n",
       "      <td>9307.509739</td>\n",
       "      <td>3994.17780</td>\n",
       "    </tr>\n",
       "  </tbody>\n",
       "</table>\n",
       "<p>393 rows × 2 columns</p>\n",
       "</div>"
      ],
      "text/plain": [
       "      Prediction     original\n",
       "0    9356.429490  11093.62290\n",
       "1    9340.279563  10928.84900\n",
       "2    9362.371496  34472.84100\n",
       "3    9286.423183   2680.94930\n",
       "4    9309.900900   7537.16390\n",
       "..           ...          ...\n",
       "388  9388.441510  48517.56315\n",
       "389  9349.534766  12233.82800\n",
       "390  9312.699356   6196.44800\n",
       "391  9332.175788   9447.38240\n",
       "392  9307.509739   3994.17780\n",
       "\n",
       "[393 rows x 2 columns]"
      ]
     },
     "execution_count": 117,
     "metadata": {},
     "output_type": "execute_result"
    }
   ],
   "source": [
    "a=np.array(y_test)\n",
    "df=pd.DataFrame()\n",
    "df['Prediction']=prediction\n",
    "df['original']=a\n",
    "df"
   ]
  },
  {
   "cell_type": "code",
   "execution_count": null,
   "id": "4424d28f",
   "metadata": {},
   "outputs": [],
   "source": []
  }
 ],
 "metadata": {
  "kernelspec": {
   "display_name": "Python 3 (ipykernel)",
   "language": "python",
   "name": "python3"
  },
  "language_info": {
   "codemirror_mode": {
    "name": "ipython",
    "version": 3
   },
   "file_extension": ".py",
   "mimetype": "text/x-python",
   "name": "python",
   "nbconvert_exporter": "python",
   "pygments_lexer": "ipython3",
   "version": "3.10.9"
  }
 },
 "nbformat": 4,
 "nbformat_minor": 5
}
